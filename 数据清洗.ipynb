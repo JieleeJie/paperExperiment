{
 "metadata": {
  "language_info": {
   "codemirror_mode": {
    "name": "ipython",
    "version": 3
   },
   "file_extension": ".py",
   "mimetype": "text/x-python",
   "name": "python",
   "nbconvert_exporter": "python",
   "pygments_lexer": "ipython3",
   "version": "3.9.0"
  },
  "orig_nbformat": 2,
  "kernelspec": {
   "name": "python3",
   "display_name": "Python 3.9.0 64-bit"
  },
  "interpreter": {
   "hash": "e56dfdfdfe0e219775f7d573ae90715c327d44511900fcd145cd2e6f7088a9d6"
  }
 },
 "nbformat": 4,
 "nbformat_minor": 2,
 "cells": [
  {
   "cell_type": "code",
   "execution_count": 10,
   "metadata": {},
   "outputs": [],
   "source": [
    "import pandas as pd\n",
    "import numpy as np\n",
    "\n",
    "# 取小数部分和整数部分\n",
    "# 内存利用率\n",
    "memoryUtil =  np.random.uniform(55,95, (10, 20))\n",
    "\n",
    "# 二维列表转为DF\n",
    "df = pd.DataFrame(memoryUtil).round()\n",
    "\n",
    "# 设置df 的index 和 column\n",
    "index = pd.Series(np.arange(0,10))\n",
    "index = index.astype(str)\n",
    "index = 'T'+index\n",
    "column = pd.Series(np.arange(0,20))\n",
    "column = column.astype(str)\n",
    "column = 'memoryUtil'+column\n",
    "df.index = index\n",
    "df.columns = column\n",
    "\n",
    "df\n",
    "\n",
    "# df.to_csv('memoryUtil.csv')"
   ]
  },
  {
   "cell_type": "code",
   "execution_count": 12,
   "metadata": {},
   "outputs": [],
   "source": [
    "import pandas as pd\n",
    "import numpy as np\n",
    "\n",
    "# TODO 为什么是0.03-0.2\n",
    "# edge server之间的通信时延  这是上行时延, *1.6 约为通信时延\n",
    "comDelay =  np.random.uniform(0.03,0.2, (10, 20))\n",
    "\n",
    "# 二维列表转为DF\n",
    "df = pd.DataFrame(comDelay*1.6).round(2)\n",
    "\n",
    "# 设置df 的index 和 column\n",
    "index = pd.Series(np.arange(0,10))\n",
    "index = index.astype(str)\n",
    "index = 'T'+index\n",
    "column = pd.Series(np.arange(0,20))\n",
    "column = column.astype(str)\n",
    "column = 'comDelay'+column\n",
    "df.index = index\n",
    "df.columns = column\n",
    "df\n",
    "\n",
    "# df.to_csv('comDelay.csv')\n"
   ]
  },
  {
   "cell_type": "code",
   "execution_count": 32,
   "metadata": {},
   "outputs": [],
   "source": [
    "import pandas as pd\n",
    "import numpy as np\n",
    "\n",
    "# 负载 假设CPU核数为16 理想状态为16* 0.7\n",
    "load =  np.random.normal(12, 6, (10, 20))\n",
    "load = np.abs(load)\n",
    "\n",
    "\n",
    "# 二维列表转为DF\n",
    "df = pd.DataFrame(load).round(2)\n",
    "\n",
    "# 设置df 的index 和 column\n",
    "index = pd.Series(np.arange(0,10))\n",
    "index = index.astype(str)\n",
    "index = 'T'+index\n",
    "column = pd.Series(np.arange(0,20))\n",
    "column = column.astype(str)\n",
    "column = 'load'+column\n",
    "df.index = index\n",
    "df.columns = column\n",
    "\n",
    "df\n",
    "# df.to_csv('load.csv')"
   ]
  },
  {
   "cell_type": "code",
   "execution_count": 36,
   "metadata": {},
   "outputs": [],
   "source": [
    "import pandas as pd\n",
    "import numpy as np\n",
    "\n",
    "# 负载 假设CPU核数为16 理想状态为16* 0.7\n",
    "sojournTime =  np.random.normal(20,10, (10, 20))\n",
    "sojournTime = np.abs(sojournTime)\n",
    "\n",
    "# 二维列表转为DF\n",
    "df = pd.DataFrame(sojournTime).round(2)\n",
    "\n",
    "# 设置df 的index 和 column\n",
    "index = pd.Series(np.arange(0,10))\n",
    "index = index.astype(str)\n",
    "index = 'T'+index\n",
    "column = pd.Series(np.arange(0,20))\n",
    "column = column.astype(str)\n",
    "column = 'sojournTime'+column\n",
    "df.index = index\n",
    "df.columns = column\n",
    "\n",
    "# df\n",
    "df.to_csv('sojournTime.csv')"
   ]
  }
 ]
}