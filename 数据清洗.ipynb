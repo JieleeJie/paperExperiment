{
 "metadata": {
  "language_info": {
   "codemirror_mode": {
    "name": "ipython",
    "version": 3
   },
   "file_extension": ".py",
   "mimetype": "text/x-python",
   "name": "python",
   "nbconvert_exporter": "python",
   "pygments_lexer": "ipython3",
   "version": "3.9.0"
  },
  "orig_nbformat": 2,
  "kernelspec": {
   "name": "python3",
   "display_name": "Python 3.9.0 64-bit"
  },
  "interpreter": {
   "hash": "e56dfdfdfe0e219775f7d573ae90715c327d44511900fcd145cd2e6f7088a9d6"
  }
 },
 "nbformat": 4,
 "nbformat_minor": 2,
 "cells": [
  {
   "cell_type": "code",
   "execution_count": 12,
   "metadata": {},
   "outputs": [
    {
     "output_type": "execute_result",
     "data": {
      "text/plain": [
       "array([[89., 66., 88., 74., 87., 84., 66., 86., 60., 55., 70., 74., 76.,\n",
       "        66., 85., 79., 79., 78., 79., 72.],\n",
       "       [58., 73., 83., 81., 86., 72., 74., 56., 55., 80., 73., 65., 87.,\n",
       "        56., 70., 93., 79., 72., 66., 69.],\n",
       "       [86., 77., 83., 80., 94., 91., 77., 55., 86., 72., 85., 87., 82.,\n",
       "        60., 68., 60., 75., 81., 83., 79.],\n",
       "       [75., 85., 63., 70., 85., 82., 63., 60., 88., 94., 89., 58., 62.,\n",
       "        70., 79., 77., 65., 84., 65., 92.],\n",
       "       [73., 61., 56., 93., 60., 72., 85., 65., 58., 76., 71., 93., 56.,\n",
       "        92., 79., 56., 94., 74., 74., 82.],\n",
       "       [75., 71., 69., 93., 69., 80., 80., 88., 86., 82., 66., 63., 63.,\n",
       "        67., 86., 82., 75., 80., 90., 68.],\n",
       "       [57., 79., 89., 90., 84., 71., 67., 93., 62., 60., 84., 59., 68.,\n",
       "        79., 76., 63., 92., 58., 58., 82.],\n",
       "       [58., 59., 64., 71., 82., 75., 88., 64., 82., 55., 93., 55., 72.,\n",
       "        70., 87., 74., 58., 65., 83., 85.],\n",
       "       [89., 94., 73., 61., 73., 55., 60., 76., 64., 76., 72., 85., 73.,\n",
       "        76., 76., 87., 70., 87., 64., 64.],\n",
       "       [67., 67., 79., 75., 59., 91., 81., 92., 93., 88., 62., 74., 71.,\n",
       "        68., 77., 72., 91., 56., 56., 67.]])"
      ]
     },
     "metadata": {},
     "execution_count": 12
    }
   ],
   "source": [
    "import pandas as pd\n",
    "import numpy as np\n",
    "\n",
    "# 取小数部分和整数部分\n",
    "# 内存利用率\n",
    "# remainder,randArr =  np.modf(np.random.uniform(55,95, (10, 20)))\n",
    "# edge server之间的通信时延  这是上行时延, *1.6 约为通信时延\n",
    "randArr,remainder, =  np.modf(np.random.uniform(0.03,0.2, (10, 20)))\n",
    "# 负载 假设CPU核数为16 理想状态为16* 0.7\n",
    "# remainder,randArr =  np.modf(np.random.normal(12, 6, (10, 20)))\n",
    "# 停留时间\n",
    "# remainder,randArr =  np.modf(np.random.normal(20,10, (10, 20)))\n",
    "\n",
    "# randArr = np.abs(randArr)\n",
    "randArr"
   ]
  },
  {
   "cell_type": "code",
   "execution_count": 13,
   "metadata": {},
   "outputs": [
    {
     "output_type": "execute_result",
     "data": {
      "text/plain": [
       "     0     1     2     3     4     5     6     7     8     9     10    11  \\\n",
       "0  89.0  66.0  88.0  74.0  87.0  84.0  66.0  86.0  60.0  55.0  70.0  74.0   \n",
       "1  58.0  73.0  83.0  81.0  86.0  72.0  74.0  56.0  55.0  80.0  73.0  65.0   \n",
       "2  86.0  77.0  83.0  80.0  94.0  91.0  77.0  55.0  86.0  72.0  85.0  87.0   \n",
       "3  75.0  85.0  63.0  70.0  85.0  82.0  63.0  60.0  88.0  94.0  89.0  58.0   \n",
       "4  73.0  61.0  56.0  93.0  60.0  72.0  85.0  65.0  58.0  76.0  71.0  93.0   \n",
       "5  75.0  71.0  69.0  93.0  69.0  80.0  80.0  88.0  86.0  82.0  66.0  63.0   \n",
       "6  57.0  79.0  89.0  90.0  84.0  71.0  67.0  93.0  62.0  60.0  84.0  59.0   \n",
       "7  58.0  59.0  64.0  71.0  82.0  75.0  88.0  64.0  82.0  55.0  93.0  55.0   \n",
       "8  89.0  94.0  73.0  61.0  73.0  55.0  60.0  76.0  64.0  76.0  72.0  85.0   \n",
       "9  67.0  67.0  79.0  75.0  59.0  91.0  81.0  92.0  93.0  88.0  62.0  74.0   \n",
       "\n",
       "     12    13    14    15    16    17    18    19  \n",
       "0  76.0  66.0  85.0  79.0  79.0  78.0  79.0  72.0  \n",
       "1  87.0  56.0  70.0  93.0  79.0  72.0  66.0  69.0  \n",
       "2  82.0  60.0  68.0  60.0  75.0  81.0  83.0  79.0  \n",
       "3  62.0  70.0  79.0  77.0  65.0  84.0  65.0  92.0  \n",
       "4  56.0  92.0  79.0  56.0  94.0  74.0  74.0  82.0  \n",
       "5  63.0  67.0  86.0  82.0  75.0  80.0  90.0  68.0  \n",
       "6  68.0  79.0  76.0  63.0  92.0  58.0  58.0  82.0  \n",
       "7  72.0  70.0  87.0  74.0  58.0  65.0  83.0  85.0  \n",
       "8  73.0  76.0  76.0  87.0  70.0  87.0  64.0  64.0  \n",
       "9  71.0  68.0  77.0  72.0  91.0  56.0  56.0  67.0  "
      ],
      "text/html": "<div>\n<style scoped>\n    .dataframe tbody tr th:only-of-type {\n        vertical-align: middle;\n    }\n\n    .dataframe tbody tr th {\n        vertical-align: top;\n    }\n\n    .dataframe thead th {\n        text-align: right;\n    }\n</style>\n<table border=\"1\" class=\"dataframe\">\n  <thead>\n    <tr style=\"text-align: right;\">\n      <th></th>\n      <th>0</th>\n      <th>1</th>\n      <th>2</th>\n      <th>3</th>\n      <th>4</th>\n      <th>5</th>\n      <th>6</th>\n      <th>7</th>\n      <th>8</th>\n      <th>9</th>\n      <th>10</th>\n      <th>11</th>\n      <th>12</th>\n      <th>13</th>\n      <th>14</th>\n      <th>15</th>\n      <th>16</th>\n      <th>17</th>\n      <th>18</th>\n      <th>19</th>\n    </tr>\n  </thead>\n  <tbody>\n    <tr>\n      <th>0</th>\n      <td>89.0</td>\n      <td>66.0</td>\n      <td>88.0</td>\n      <td>74.0</td>\n      <td>87.0</td>\n      <td>84.0</td>\n      <td>66.0</td>\n      <td>86.0</td>\n      <td>60.0</td>\n      <td>55.0</td>\n      <td>70.0</td>\n      <td>74.0</td>\n      <td>76.0</td>\n      <td>66.0</td>\n      <td>85.0</td>\n      <td>79.0</td>\n      <td>79.0</td>\n      <td>78.0</td>\n      <td>79.0</td>\n      <td>72.0</td>\n    </tr>\n    <tr>\n      <th>1</th>\n      <td>58.0</td>\n      <td>73.0</td>\n      <td>83.0</td>\n      <td>81.0</td>\n      <td>86.0</td>\n      <td>72.0</td>\n      <td>74.0</td>\n      <td>56.0</td>\n      <td>55.0</td>\n      <td>80.0</td>\n      <td>73.0</td>\n      <td>65.0</td>\n      <td>87.0</td>\n      <td>56.0</td>\n      <td>70.0</td>\n      <td>93.0</td>\n      <td>79.0</td>\n      <td>72.0</td>\n      <td>66.0</td>\n      <td>69.0</td>\n    </tr>\n    <tr>\n      <th>2</th>\n      <td>86.0</td>\n      <td>77.0</td>\n      <td>83.0</td>\n      <td>80.0</td>\n      <td>94.0</td>\n      <td>91.0</td>\n      <td>77.0</td>\n      <td>55.0</td>\n      <td>86.0</td>\n      <td>72.0</td>\n      <td>85.0</td>\n      <td>87.0</td>\n      <td>82.0</td>\n      <td>60.0</td>\n      <td>68.0</td>\n      <td>60.0</td>\n      <td>75.0</td>\n      <td>81.0</td>\n      <td>83.0</td>\n      <td>79.0</td>\n    </tr>\n    <tr>\n      <th>3</th>\n      <td>75.0</td>\n      <td>85.0</td>\n      <td>63.0</td>\n      <td>70.0</td>\n      <td>85.0</td>\n      <td>82.0</td>\n      <td>63.0</td>\n      <td>60.0</td>\n      <td>88.0</td>\n      <td>94.0</td>\n      <td>89.0</td>\n      <td>58.0</td>\n      <td>62.0</td>\n      <td>70.0</td>\n      <td>79.0</td>\n      <td>77.0</td>\n      <td>65.0</td>\n      <td>84.0</td>\n      <td>65.0</td>\n      <td>92.0</td>\n    </tr>\n    <tr>\n      <th>4</th>\n      <td>73.0</td>\n      <td>61.0</td>\n      <td>56.0</td>\n      <td>93.0</td>\n      <td>60.0</td>\n      <td>72.0</td>\n      <td>85.0</td>\n      <td>65.0</td>\n      <td>58.0</td>\n      <td>76.0</td>\n      <td>71.0</td>\n      <td>93.0</td>\n      <td>56.0</td>\n      <td>92.0</td>\n      <td>79.0</td>\n      <td>56.0</td>\n      <td>94.0</td>\n      <td>74.0</td>\n      <td>74.0</td>\n      <td>82.0</td>\n    </tr>\n    <tr>\n      <th>5</th>\n      <td>75.0</td>\n      <td>71.0</td>\n      <td>69.0</td>\n      <td>93.0</td>\n      <td>69.0</td>\n      <td>80.0</td>\n      <td>80.0</td>\n      <td>88.0</td>\n      <td>86.0</td>\n      <td>82.0</td>\n      <td>66.0</td>\n      <td>63.0</td>\n      <td>63.0</td>\n      <td>67.0</td>\n      <td>86.0</td>\n      <td>82.0</td>\n      <td>75.0</td>\n      <td>80.0</td>\n      <td>90.0</td>\n      <td>68.0</td>\n    </tr>\n    <tr>\n      <th>6</th>\n      <td>57.0</td>\n      <td>79.0</td>\n      <td>89.0</td>\n      <td>90.0</td>\n      <td>84.0</td>\n      <td>71.0</td>\n      <td>67.0</td>\n      <td>93.0</td>\n      <td>62.0</td>\n      <td>60.0</td>\n      <td>84.0</td>\n      <td>59.0</td>\n      <td>68.0</td>\n      <td>79.0</td>\n      <td>76.0</td>\n      <td>63.0</td>\n      <td>92.0</td>\n      <td>58.0</td>\n      <td>58.0</td>\n      <td>82.0</td>\n    </tr>\n    <tr>\n      <th>7</th>\n      <td>58.0</td>\n      <td>59.0</td>\n      <td>64.0</td>\n      <td>71.0</td>\n      <td>82.0</td>\n      <td>75.0</td>\n      <td>88.0</td>\n      <td>64.0</td>\n      <td>82.0</td>\n      <td>55.0</td>\n      <td>93.0</td>\n      <td>55.0</td>\n      <td>72.0</td>\n      <td>70.0</td>\n      <td>87.0</td>\n      <td>74.0</td>\n      <td>58.0</td>\n      <td>65.0</td>\n      <td>83.0</td>\n      <td>85.0</td>\n    </tr>\n    <tr>\n      <th>8</th>\n      <td>89.0</td>\n      <td>94.0</td>\n      <td>73.0</td>\n      <td>61.0</td>\n      <td>73.0</td>\n      <td>55.0</td>\n      <td>60.0</td>\n      <td>76.0</td>\n      <td>64.0</td>\n      <td>76.0</td>\n      <td>72.0</td>\n      <td>85.0</td>\n      <td>73.0</td>\n      <td>76.0</td>\n      <td>76.0</td>\n      <td>87.0</td>\n      <td>70.0</td>\n      <td>87.0</td>\n      <td>64.0</td>\n      <td>64.0</td>\n    </tr>\n    <tr>\n      <th>9</th>\n      <td>67.0</td>\n      <td>67.0</td>\n      <td>79.0</td>\n      <td>75.0</td>\n      <td>59.0</td>\n      <td>91.0</td>\n      <td>81.0</td>\n      <td>92.0</td>\n      <td>93.0</td>\n      <td>88.0</td>\n      <td>62.0</td>\n      <td>74.0</td>\n      <td>71.0</td>\n      <td>68.0</td>\n      <td>77.0</td>\n      <td>72.0</td>\n      <td>91.0</td>\n      <td>56.0</td>\n      <td>56.0</td>\n      <td>67.0</td>\n    </tr>\n  </tbody>\n</table>\n</div>"
     },
     "metadata": {},
     "execution_count": 13
    }
   ],
   "source": [
    "# 二维列表转为DF\n",
    "df = pd.DataFrame(randArr)\n",
    "# df = pd.DataFrame(randArr*1.6)\n",
    "# df = pd.DataFrame(randArr).round(2)\n",
    "df"
   ]
  },
  {
   "cell_type": "code",
   "execution_count": 14,
   "metadata": {},
   "outputs": [
    {
     "output_type": "execute_result",
     "data": {
      "text/plain": [
       "    memory0  memory1  memory2  memory3  memory4  memory5  memory6  memory7  \\\n",
       "T0     89.0     66.0     88.0     74.0     87.0     84.0     66.0     86.0   \n",
       "T1     58.0     73.0     83.0     81.0     86.0     72.0     74.0     56.0   \n",
       "T2     86.0     77.0     83.0     80.0     94.0     91.0     77.0     55.0   \n",
       "T3     75.0     85.0     63.0     70.0     85.0     82.0     63.0     60.0   \n",
       "T4     73.0     61.0     56.0     93.0     60.0     72.0     85.0     65.0   \n",
       "T5     75.0     71.0     69.0     93.0     69.0     80.0     80.0     88.0   \n",
       "T6     57.0     79.0     89.0     90.0     84.0     71.0     67.0     93.0   \n",
       "T7     58.0     59.0     64.0     71.0     82.0     75.0     88.0     64.0   \n",
       "T8     89.0     94.0     73.0     61.0     73.0     55.0     60.0     76.0   \n",
       "T9     67.0     67.0     79.0     75.0     59.0     91.0     81.0     92.0   \n",
       "\n",
       "    memory8  memory9  memory10  memory11  memory12  memory13  memory14  \\\n",
       "T0     60.0     55.0      70.0      74.0      76.0      66.0      85.0   \n",
       "T1     55.0     80.0      73.0      65.0      87.0      56.0      70.0   \n",
       "T2     86.0     72.0      85.0      87.0      82.0      60.0      68.0   \n",
       "T3     88.0     94.0      89.0      58.0      62.0      70.0      79.0   \n",
       "T4     58.0     76.0      71.0      93.0      56.0      92.0      79.0   \n",
       "T5     86.0     82.0      66.0      63.0      63.0      67.0      86.0   \n",
       "T6     62.0     60.0      84.0      59.0      68.0      79.0      76.0   \n",
       "T7     82.0     55.0      93.0      55.0      72.0      70.0      87.0   \n",
       "T8     64.0     76.0      72.0      85.0      73.0      76.0      76.0   \n",
       "T9     93.0     88.0      62.0      74.0      71.0      68.0      77.0   \n",
       "\n",
       "    memory15  memory16  memory17  memory18  memory19  \n",
       "T0      79.0      79.0      78.0      79.0      72.0  \n",
       "T1      93.0      79.0      72.0      66.0      69.0  \n",
       "T2      60.0      75.0      81.0      83.0      79.0  \n",
       "T3      77.0      65.0      84.0      65.0      92.0  \n",
       "T4      56.0      94.0      74.0      74.0      82.0  \n",
       "T5      82.0      75.0      80.0      90.0      68.0  \n",
       "T6      63.0      92.0      58.0      58.0      82.0  \n",
       "T7      74.0      58.0      65.0      83.0      85.0  \n",
       "T8      87.0      70.0      87.0      64.0      64.0  \n",
       "T9      72.0      91.0      56.0      56.0      67.0  "
      ],
      "text/html": "<div>\n<style scoped>\n    .dataframe tbody tr th:only-of-type {\n        vertical-align: middle;\n    }\n\n    .dataframe tbody tr th {\n        vertical-align: top;\n    }\n\n    .dataframe thead th {\n        text-align: right;\n    }\n</style>\n<table border=\"1\" class=\"dataframe\">\n  <thead>\n    <tr style=\"text-align: right;\">\n      <th></th>\n      <th>memory0</th>\n      <th>memory1</th>\n      <th>memory2</th>\n      <th>memory3</th>\n      <th>memory4</th>\n      <th>memory5</th>\n      <th>memory6</th>\n      <th>memory7</th>\n      <th>memory8</th>\n      <th>memory9</th>\n      <th>memory10</th>\n      <th>memory11</th>\n      <th>memory12</th>\n      <th>memory13</th>\n      <th>memory14</th>\n      <th>memory15</th>\n      <th>memory16</th>\n      <th>memory17</th>\n      <th>memory18</th>\n      <th>memory19</th>\n    </tr>\n  </thead>\n  <tbody>\n    <tr>\n      <th>T0</th>\n      <td>89.0</td>\n      <td>66.0</td>\n      <td>88.0</td>\n      <td>74.0</td>\n      <td>87.0</td>\n      <td>84.0</td>\n      <td>66.0</td>\n      <td>86.0</td>\n      <td>60.0</td>\n      <td>55.0</td>\n      <td>70.0</td>\n      <td>74.0</td>\n      <td>76.0</td>\n      <td>66.0</td>\n      <td>85.0</td>\n      <td>79.0</td>\n      <td>79.0</td>\n      <td>78.0</td>\n      <td>79.0</td>\n      <td>72.0</td>\n    </tr>\n    <tr>\n      <th>T1</th>\n      <td>58.0</td>\n      <td>73.0</td>\n      <td>83.0</td>\n      <td>81.0</td>\n      <td>86.0</td>\n      <td>72.0</td>\n      <td>74.0</td>\n      <td>56.0</td>\n      <td>55.0</td>\n      <td>80.0</td>\n      <td>73.0</td>\n      <td>65.0</td>\n      <td>87.0</td>\n      <td>56.0</td>\n      <td>70.0</td>\n      <td>93.0</td>\n      <td>79.0</td>\n      <td>72.0</td>\n      <td>66.0</td>\n      <td>69.0</td>\n    </tr>\n    <tr>\n      <th>T2</th>\n      <td>86.0</td>\n      <td>77.0</td>\n      <td>83.0</td>\n      <td>80.0</td>\n      <td>94.0</td>\n      <td>91.0</td>\n      <td>77.0</td>\n      <td>55.0</td>\n      <td>86.0</td>\n      <td>72.0</td>\n      <td>85.0</td>\n      <td>87.0</td>\n      <td>82.0</td>\n      <td>60.0</td>\n      <td>68.0</td>\n      <td>60.0</td>\n      <td>75.0</td>\n      <td>81.0</td>\n      <td>83.0</td>\n      <td>79.0</td>\n    </tr>\n    <tr>\n      <th>T3</th>\n      <td>75.0</td>\n      <td>85.0</td>\n      <td>63.0</td>\n      <td>70.0</td>\n      <td>85.0</td>\n      <td>82.0</td>\n      <td>63.0</td>\n      <td>60.0</td>\n      <td>88.0</td>\n      <td>94.0</td>\n      <td>89.0</td>\n      <td>58.0</td>\n      <td>62.0</td>\n      <td>70.0</td>\n      <td>79.0</td>\n      <td>77.0</td>\n      <td>65.0</td>\n      <td>84.0</td>\n      <td>65.0</td>\n      <td>92.0</td>\n    </tr>\n    <tr>\n      <th>T4</th>\n      <td>73.0</td>\n      <td>61.0</td>\n      <td>56.0</td>\n      <td>93.0</td>\n      <td>60.0</td>\n      <td>72.0</td>\n      <td>85.0</td>\n      <td>65.0</td>\n      <td>58.0</td>\n      <td>76.0</td>\n      <td>71.0</td>\n      <td>93.0</td>\n      <td>56.0</td>\n      <td>92.0</td>\n      <td>79.0</td>\n      <td>56.0</td>\n      <td>94.0</td>\n      <td>74.0</td>\n      <td>74.0</td>\n      <td>82.0</td>\n    </tr>\n    <tr>\n      <th>T5</th>\n      <td>75.0</td>\n      <td>71.0</td>\n      <td>69.0</td>\n      <td>93.0</td>\n      <td>69.0</td>\n      <td>80.0</td>\n      <td>80.0</td>\n      <td>88.0</td>\n      <td>86.0</td>\n      <td>82.0</td>\n      <td>66.0</td>\n      <td>63.0</td>\n      <td>63.0</td>\n      <td>67.0</td>\n      <td>86.0</td>\n      <td>82.0</td>\n      <td>75.0</td>\n      <td>80.0</td>\n      <td>90.0</td>\n      <td>68.0</td>\n    </tr>\n    <tr>\n      <th>T6</th>\n      <td>57.0</td>\n      <td>79.0</td>\n      <td>89.0</td>\n      <td>90.0</td>\n      <td>84.0</td>\n      <td>71.0</td>\n      <td>67.0</td>\n      <td>93.0</td>\n      <td>62.0</td>\n      <td>60.0</td>\n      <td>84.0</td>\n      <td>59.0</td>\n      <td>68.0</td>\n      <td>79.0</td>\n      <td>76.0</td>\n      <td>63.0</td>\n      <td>92.0</td>\n      <td>58.0</td>\n      <td>58.0</td>\n      <td>82.0</td>\n    </tr>\n    <tr>\n      <th>T7</th>\n      <td>58.0</td>\n      <td>59.0</td>\n      <td>64.0</td>\n      <td>71.0</td>\n      <td>82.0</td>\n      <td>75.0</td>\n      <td>88.0</td>\n      <td>64.0</td>\n      <td>82.0</td>\n      <td>55.0</td>\n      <td>93.0</td>\n      <td>55.0</td>\n      <td>72.0</td>\n      <td>70.0</td>\n      <td>87.0</td>\n      <td>74.0</td>\n      <td>58.0</td>\n      <td>65.0</td>\n      <td>83.0</td>\n      <td>85.0</td>\n    </tr>\n    <tr>\n      <th>T8</th>\n      <td>89.0</td>\n      <td>94.0</td>\n      <td>73.0</td>\n      <td>61.0</td>\n      <td>73.0</td>\n      <td>55.0</td>\n      <td>60.0</td>\n      <td>76.0</td>\n      <td>64.0</td>\n      <td>76.0</td>\n      <td>72.0</td>\n      <td>85.0</td>\n      <td>73.0</td>\n      <td>76.0</td>\n      <td>76.0</td>\n      <td>87.0</td>\n      <td>70.0</td>\n      <td>87.0</td>\n      <td>64.0</td>\n      <td>64.0</td>\n    </tr>\n    <tr>\n      <th>T9</th>\n      <td>67.0</td>\n      <td>67.0</td>\n      <td>79.0</td>\n      <td>75.0</td>\n      <td>59.0</td>\n      <td>91.0</td>\n      <td>81.0</td>\n      <td>92.0</td>\n      <td>93.0</td>\n      <td>88.0</td>\n      <td>62.0</td>\n      <td>74.0</td>\n      <td>71.0</td>\n      <td>68.0</td>\n      <td>77.0</td>\n      <td>72.0</td>\n      <td>91.0</td>\n      <td>56.0</td>\n      <td>56.0</td>\n      <td>67.0</td>\n    </tr>\n  </tbody>\n</table>\n</div>"
     },
     "metadata": {},
     "execution_count": 14
    }
   ],
   "source": [
    "# 设置df 的index 和 column\n",
    "index = pd.Series(np.arange(0,10))\n",
    "index = index.astype(str)\n",
    "index = 'T'+index\n",
    "\n",
    "column = pd.Series(np.arange(0,20))\n",
    "column = column.astype(str)\n",
    "column = 'memory'+column\n",
    "\n",
    "df.index = index\n",
    "df.columns = column\n",
    "\n",
    "df"
   ]
  },
  {
   "cell_type": "code",
   "execution_count": 15,
   "metadata": {},
   "outputs": [],
   "source": [
    "# 将DataFrame导出为 CSV\n",
    "# df.to_csv('memory.csv')\n",
    "df.to_csv('delay.csv')\n",
    "# df.to_csv('load.csv')\n",
    "# df.to_csv('sojournTime.csv')"
   ]
  }
 ]
}