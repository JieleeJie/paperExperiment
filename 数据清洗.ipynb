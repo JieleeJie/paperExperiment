{
 "metadata": {
  "language_info": {
   "codemirror_mode": {
    "name": "ipython",
    "version": 3
   },
   "file_extension": ".py",
   "mimetype": "text/x-python",
   "name": "python",
   "nbconvert_exporter": "python",
   "pygments_lexer": "ipython3",
   "version": "3.9.0"
  },
  "orig_nbformat": 2,
  "kernelspec": {
   "name": "python390jvsc74a57bd0e56dfdfdfe0e219775f7d573ae90715c327d44511900fcd145cd2e6f7088a9d6",
   "display_name": "Python 3.9.0 64-bit"
  }
 },
 "nbformat": 4,
 "nbformat_minor": 2,
 "cells": [
  {
   "cell_type": "code",
   "execution_count": null,
   "metadata": {},
   "outputs": [],
   "source": [
    "import pandas as pd\n",
    "import numpy as np\n",
    "\n",
    "# 取小数部分和整数部分\n",
    "# 内存利用率\n",
    "# remainder,randArr =  np.modf(np.random.uniform(55,95, (10, 20)))\n",
    "# edge server之间的通信时延  这是上行时延, *1.6 约为通信时延\n",
    "# randArr,remainder, =  np.modf(np.random.uniform(0.03,0.2, (10, 20)))\n",
    "# 负载 假设CPU核数为16 理想状态为16* 0.7\n",
    "# remainder,randArr =  np.modf(np.random.normal(12, 6, (10, 20)))\n",
    "# 停留时间\n",
    "remainder,randArr =  np.modf(np.random.normal(20,10, (10, 20)))\n",
    "\n",
    "randArr = np.abs(randArr)\n",
    "# randArr"
   ]
  },
  {
   "cell_type": "code",
   "execution_count": null,
   "metadata": {},
   "outputs": [],
   "source": [
    "# 二维列表转为DF\n",
    "df = pd.DataFrame(randArr)\n",
    "# df = pd.DataFrame(randArr*1.6)\n",
    "# df = pd.DataFrame(randArr).round(2)\n",
    "df"
   ]
  },
  {
   "cell_type": "code",
   "execution_count": null,
   "metadata": {},
   "outputs": [],
   "source": [
    "# 设置df 的index 和 column\n",
    "index = pd.Series(np.arange(1,11))\n",
    "index = index.astype(str)\n",
    "index = 'T'+index\n",
    "\n",
    "column = pd.Series(np.arange(1,21))\n",
    "column = column.astype(str)\n",
    "column = 'sojournTime'+column\n",
    "\n",
    "df.index = index\n",
    "df.columns = column\n",
    "\n",
    "df"
   ]
  },
  {
   "cell_type": "code",
   "execution_count": null,
   "metadata": {},
   "outputs": [],
   "source": [
    "# 将DataFrame导出为 CSV\n",
    "# df.to_csv('memory.csv')\n",
    "# df.to_csv('delay.csv')\n",
    "# df.to_csv('load.csv')\n",
    "df.to_csv('sojournTime.csv')"
   ]
  }
 ]
}