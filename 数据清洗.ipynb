{
 "metadata": {
  "language_info": {
   "codemirror_mode": {
    "name": "ipython",
    "version": 3
   },
   "file_extension": ".py",
   "mimetype": "text/x-python",
   "name": "python",
   "nbconvert_exporter": "python",
   "pygments_lexer": "ipython3",
   "version": "3.9.0"
  },
  "orig_nbformat": 2,
  "kernelspec": {
   "name": "python390jvsc74a57bd0e56dfdfdfe0e219775f7d573ae90715c327d44511900fcd145cd2e6f7088a9d6",
   "display_name": "Python 3.9.0 64-bit"
  }
 },
 "nbformat": 4,
 "nbformat_minor": 2,
 "cells": [
  {
   "cell_type": "code",
   "execution_count": 18,
   "metadata": {},
   "outputs": [
    {
     "output_type": "execute_result",
     "data": {
      "text/plain": [
       "array([[0.30408626, 0.07567762, 0.17958733, 0.25781722, 0.22083609,\n",
       "        0.2333199 , 0.24105023, 0.28188081, 0.17039572, 0.27006903],\n",
       "       [0.19090415, 0.04902529, 0.15302237, 0.27848889, 0.08649487,\n",
       "        0.17342222, 0.19859779, 0.08034136, 0.23664057, 0.23334105],\n",
       "       [0.2911939 , 0.31196152, 0.24799308, 0.04997872, 0.25464089,\n",
       "        0.26119038, 0.11878733, 0.29781959, 0.11204598, 0.22411077],\n",
       "       [0.08195738, 0.28022381, 0.24348985, 0.24899254, 0.16222353,\n",
       "        0.05211322, 0.1860544 , 0.14605227, 0.29782927, 0.15413318],\n",
       "       [0.14204112, 0.15382852, 0.08802313, 0.27759233, 0.15321774,\n",
       "        0.13595699, 0.04954267, 0.28381542, 0.11222424, 0.24645509],\n",
       "       [0.07867425, 0.17169911, 0.27839932, 0.31473265, 0.07511908,\n",
       "        0.29826271, 0.29002559, 0.23068921, 0.17401164, 0.21231613],\n",
       "       [0.10923137, 0.26861664, 0.20027418, 0.12549932, 0.24700713,\n",
       "        0.13214951, 0.11429597, 0.31218445, 0.16714443, 0.15670697],\n",
       "       [0.14530531, 0.17231932, 0.19446657, 0.07889412, 0.16214407,\n",
       "        0.16042051, 0.1929036 , 0.28428467, 0.05732252, 0.29753979],\n",
       "       [0.13463634, 0.29356814, 0.14068511, 0.07919911, 0.23749085,\n",
       "        0.27036587, 0.24006033, 0.1381801 , 0.21082911, 0.18910271],\n",
       "       [0.29568769, 0.21484572, 0.23100723, 0.23160507, 0.16839119,\n",
       "        0.07155429, 0.12703429, 0.26400983, 0.15680623, 0.07547825]])"
      ]
     },
     "metadata": {},
     "execution_count": 18
    }
   ],
   "source": [
    "import pandas as pd\n",
    "import numpy as np\n",
    "\n",
    "# 取小数部分和整数部分\n",
    "# 内存利用率\n",
    "# remainder,randArr =  np.modf(np.random.uniform(65,95, (10, 10)))\n",
    "# edge server之间的通信时延  这是上行时延 *1.6 约为通信时延\n",
    "randArr,remainder, =  np.modf(np.random.uniform(0.03,0.2, (10, 10)))\n",
    "# 负载 假设CPU核数为16 理想状态为16* 0.7\n",
    "# remainder,randArr =  np.modf(np.random.uniform(0,24, (10, 10)))\n",
    "# 停留时间\n",
    "# remainder,randArr =  np.modf(np.random.normal(20,10, (10, 10)))\n",
    "randArr*1.6"
   ]
  },
  {
   "cell_type": "code",
   "execution_count": 21,
   "metadata": {},
   "outputs": [
    {
     "output_type": "execute_result",
     "data": {
      "text/plain": [
       "          0         1         2         3         4         5         6  \\\n",
       "0  0.304086  0.075678  0.179587  0.257817  0.220836  0.233320  0.241050   \n",
       "1  0.190904  0.049025  0.153022  0.278489  0.086495  0.173422  0.198598   \n",
       "2  0.291194  0.311962  0.247993  0.049979  0.254641  0.261190  0.118787   \n",
       "3  0.081957  0.280224  0.243490  0.248993  0.162224  0.052113  0.186054   \n",
       "4  0.142041  0.153829  0.088023  0.277592  0.153218  0.135957  0.049543   \n",
       "5  0.078674  0.171699  0.278399  0.314733  0.075119  0.298263  0.290026   \n",
       "6  0.109231  0.268617  0.200274  0.125499  0.247007  0.132150  0.114296   \n",
       "7  0.145305  0.172319  0.194467  0.078894  0.162144  0.160421  0.192904   \n",
       "8  0.134636  0.293568  0.140685  0.079199  0.237491  0.270366  0.240060   \n",
       "9  0.295688  0.214846  0.231007  0.231605  0.168391  0.071554  0.127034   \n",
       "\n",
       "          7         8         9  \n",
       "0  0.281881  0.170396  0.270069  \n",
       "1  0.080341  0.236641  0.233341  \n",
       "2  0.297820  0.112046  0.224111  \n",
       "3  0.146052  0.297829  0.154133  \n",
       "4  0.283815  0.112224  0.246455  \n",
       "5  0.230689  0.174012  0.212316  \n",
       "6  0.312184  0.167144  0.156707  \n",
       "7  0.284285  0.057323  0.297540  \n",
       "8  0.138180  0.210829  0.189103  \n",
       "9  0.264010  0.156806  0.075478  "
      ],
      "text/html": "<div>\n<style scoped>\n    .dataframe tbody tr th:only-of-type {\n        vertical-align: middle;\n    }\n\n    .dataframe tbody tr th {\n        vertical-align: top;\n    }\n\n    .dataframe thead th {\n        text-align: right;\n    }\n</style>\n<table border=\"1\" class=\"dataframe\">\n  <thead>\n    <tr style=\"text-align: right;\">\n      <th></th>\n      <th>0</th>\n      <th>1</th>\n      <th>2</th>\n      <th>3</th>\n      <th>4</th>\n      <th>5</th>\n      <th>6</th>\n      <th>7</th>\n      <th>8</th>\n      <th>9</th>\n    </tr>\n  </thead>\n  <tbody>\n    <tr>\n      <th>0</th>\n      <td>0.304086</td>\n      <td>0.075678</td>\n      <td>0.179587</td>\n      <td>0.257817</td>\n      <td>0.220836</td>\n      <td>0.233320</td>\n      <td>0.241050</td>\n      <td>0.281881</td>\n      <td>0.170396</td>\n      <td>0.270069</td>\n    </tr>\n    <tr>\n      <th>1</th>\n      <td>0.190904</td>\n      <td>0.049025</td>\n      <td>0.153022</td>\n      <td>0.278489</td>\n      <td>0.086495</td>\n      <td>0.173422</td>\n      <td>0.198598</td>\n      <td>0.080341</td>\n      <td>0.236641</td>\n      <td>0.233341</td>\n    </tr>\n    <tr>\n      <th>2</th>\n      <td>0.291194</td>\n      <td>0.311962</td>\n      <td>0.247993</td>\n      <td>0.049979</td>\n      <td>0.254641</td>\n      <td>0.261190</td>\n      <td>0.118787</td>\n      <td>0.297820</td>\n      <td>0.112046</td>\n      <td>0.224111</td>\n    </tr>\n    <tr>\n      <th>3</th>\n      <td>0.081957</td>\n      <td>0.280224</td>\n      <td>0.243490</td>\n      <td>0.248993</td>\n      <td>0.162224</td>\n      <td>0.052113</td>\n      <td>0.186054</td>\n      <td>0.146052</td>\n      <td>0.297829</td>\n      <td>0.154133</td>\n    </tr>\n    <tr>\n      <th>4</th>\n      <td>0.142041</td>\n      <td>0.153829</td>\n      <td>0.088023</td>\n      <td>0.277592</td>\n      <td>0.153218</td>\n      <td>0.135957</td>\n      <td>0.049543</td>\n      <td>0.283815</td>\n      <td>0.112224</td>\n      <td>0.246455</td>\n    </tr>\n    <tr>\n      <th>5</th>\n      <td>0.078674</td>\n      <td>0.171699</td>\n      <td>0.278399</td>\n      <td>0.314733</td>\n      <td>0.075119</td>\n      <td>0.298263</td>\n      <td>0.290026</td>\n      <td>0.230689</td>\n      <td>0.174012</td>\n      <td>0.212316</td>\n    </tr>\n    <tr>\n      <th>6</th>\n      <td>0.109231</td>\n      <td>0.268617</td>\n      <td>0.200274</td>\n      <td>0.125499</td>\n      <td>0.247007</td>\n      <td>0.132150</td>\n      <td>0.114296</td>\n      <td>0.312184</td>\n      <td>0.167144</td>\n      <td>0.156707</td>\n    </tr>\n    <tr>\n      <th>7</th>\n      <td>0.145305</td>\n      <td>0.172319</td>\n      <td>0.194467</td>\n      <td>0.078894</td>\n      <td>0.162144</td>\n      <td>0.160421</td>\n      <td>0.192904</td>\n      <td>0.284285</td>\n      <td>0.057323</td>\n      <td>0.297540</td>\n    </tr>\n    <tr>\n      <th>8</th>\n      <td>0.134636</td>\n      <td>0.293568</td>\n      <td>0.140685</td>\n      <td>0.079199</td>\n      <td>0.237491</td>\n      <td>0.270366</td>\n      <td>0.240060</td>\n      <td>0.138180</td>\n      <td>0.210829</td>\n      <td>0.189103</td>\n    </tr>\n    <tr>\n      <th>9</th>\n      <td>0.295688</td>\n      <td>0.214846</td>\n      <td>0.231007</td>\n      <td>0.231605</td>\n      <td>0.168391</td>\n      <td>0.071554</td>\n      <td>0.127034</td>\n      <td>0.264010</td>\n      <td>0.156806</td>\n      <td>0.075478</td>\n    </tr>\n  </tbody>\n</table>\n</div>"
     },
     "metadata": {},
     "execution_count": 21
    }
   ],
   "source": [
    "# 二维列表转为DF\n",
    "df = pd.DataFrame(randArr)\n",
    "# df = pd.DataFrame(randArr*1.6)\n",
    "# df = pd.DataFrame(randArr).round(2)\n",
    "df"
   ]
  },
  {
   "cell_type": "code",
   "execution_count": 24,
   "metadata": {},
   "outputs": [
    {
     "output_type": "execute_result",
     "data": {
      "text/plain": [
       "       delay1    delay2    delay3    delay4    delay5    delay6    delay7  \\\n",
       "T1   0.304086  0.075678  0.179587  0.257817  0.220836  0.233320  0.241050   \n",
       "T2   0.190904  0.049025  0.153022  0.278489  0.086495  0.173422  0.198598   \n",
       "T3   0.291194  0.311962  0.247993  0.049979  0.254641  0.261190  0.118787   \n",
       "T4   0.081957  0.280224  0.243490  0.248993  0.162224  0.052113  0.186054   \n",
       "T5   0.142041  0.153829  0.088023  0.277592  0.153218  0.135957  0.049543   \n",
       "T6   0.078674  0.171699  0.278399  0.314733  0.075119  0.298263  0.290026   \n",
       "T7   0.109231  0.268617  0.200274  0.125499  0.247007  0.132150  0.114296   \n",
       "T8   0.145305  0.172319  0.194467  0.078894  0.162144  0.160421  0.192904   \n",
       "T9   0.134636  0.293568  0.140685  0.079199  0.237491  0.270366  0.240060   \n",
       "T10  0.295688  0.214846  0.231007  0.231605  0.168391  0.071554  0.127034   \n",
       "\n",
       "       delay8    delay9   delay10  \n",
       "T1   0.281881  0.170396  0.270069  \n",
       "T2   0.080341  0.236641  0.233341  \n",
       "T3   0.297820  0.112046  0.224111  \n",
       "T4   0.146052  0.297829  0.154133  \n",
       "T5   0.283815  0.112224  0.246455  \n",
       "T6   0.230689  0.174012  0.212316  \n",
       "T7   0.312184  0.167144  0.156707  \n",
       "T8   0.284285  0.057323  0.297540  \n",
       "T9   0.138180  0.210829  0.189103  \n",
       "T10  0.264010  0.156806  0.075478  "
      ],
      "text/html": "<div>\n<style scoped>\n    .dataframe tbody tr th:only-of-type {\n        vertical-align: middle;\n    }\n\n    .dataframe tbody tr th {\n        vertical-align: top;\n    }\n\n    .dataframe thead th {\n        text-align: right;\n    }\n</style>\n<table border=\"1\" class=\"dataframe\">\n  <thead>\n    <tr style=\"text-align: right;\">\n      <th></th>\n      <th>delay1</th>\n      <th>delay2</th>\n      <th>delay3</th>\n      <th>delay4</th>\n      <th>delay5</th>\n      <th>delay6</th>\n      <th>delay7</th>\n      <th>delay8</th>\n      <th>delay9</th>\n      <th>delay10</th>\n    </tr>\n  </thead>\n  <tbody>\n    <tr>\n      <th>T1</th>\n      <td>0.304086</td>\n      <td>0.075678</td>\n      <td>0.179587</td>\n      <td>0.257817</td>\n      <td>0.220836</td>\n      <td>0.233320</td>\n      <td>0.241050</td>\n      <td>0.281881</td>\n      <td>0.170396</td>\n      <td>0.270069</td>\n    </tr>\n    <tr>\n      <th>T2</th>\n      <td>0.190904</td>\n      <td>0.049025</td>\n      <td>0.153022</td>\n      <td>0.278489</td>\n      <td>0.086495</td>\n      <td>0.173422</td>\n      <td>0.198598</td>\n      <td>0.080341</td>\n      <td>0.236641</td>\n      <td>0.233341</td>\n    </tr>\n    <tr>\n      <th>T3</th>\n      <td>0.291194</td>\n      <td>0.311962</td>\n      <td>0.247993</td>\n      <td>0.049979</td>\n      <td>0.254641</td>\n      <td>0.261190</td>\n      <td>0.118787</td>\n      <td>0.297820</td>\n      <td>0.112046</td>\n      <td>0.224111</td>\n    </tr>\n    <tr>\n      <th>T4</th>\n      <td>0.081957</td>\n      <td>0.280224</td>\n      <td>0.243490</td>\n      <td>0.248993</td>\n      <td>0.162224</td>\n      <td>0.052113</td>\n      <td>0.186054</td>\n      <td>0.146052</td>\n      <td>0.297829</td>\n      <td>0.154133</td>\n    </tr>\n    <tr>\n      <th>T5</th>\n      <td>0.142041</td>\n      <td>0.153829</td>\n      <td>0.088023</td>\n      <td>0.277592</td>\n      <td>0.153218</td>\n      <td>0.135957</td>\n      <td>0.049543</td>\n      <td>0.283815</td>\n      <td>0.112224</td>\n      <td>0.246455</td>\n    </tr>\n    <tr>\n      <th>T6</th>\n      <td>0.078674</td>\n      <td>0.171699</td>\n      <td>0.278399</td>\n      <td>0.314733</td>\n      <td>0.075119</td>\n      <td>0.298263</td>\n      <td>0.290026</td>\n      <td>0.230689</td>\n      <td>0.174012</td>\n      <td>0.212316</td>\n    </tr>\n    <tr>\n      <th>T7</th>\n      <td>0.109231</td>\n      <td>0.268617</td>\n      <td>0.200274</td>\n      <td>0.125499</td>\n      <td>0.247007</td>\n      <td>0.132150</td>\n      <td>0.114296</td>\n      <td>0.312184</td>\n      <td>0.167144</td>\n      <td>0.156707</td>\n    </tr>\n    <tr>\n      <th>T8</th>\n      <td>0.145305</td>\n      <td>0.172319</td>\n      <td>0.194467</td>\n      <td>0.078894</td>\n      <td>0.162144</td>\n      <td>0.160421</td>\n      <td>0.192904</td>\n      <td>0.284285</td>\n      <td>0.057323</td>\n      <td>0.297540</td>\n    </tr>\n    <tr>\n      <th>T9</th>\n      <td>0.134636</td>\n      <td>0.293568</td>\n      <td>0.140685</td>\n      <td>0.079199</td>\n      <td>0.237491</td>\n      <td>0.270366</td>\n      <td>0.240060</td>\n      <td>0.138180</td>\n      <td>0.210829</td>\n      <td>0.189103</td>\n    </tr>\n    <tr>\n      <th>T10</th>\n      <td>0.295688</td>\n      <td>0.214846</td>\n      <td>0.231007</td>\n      <td>0.231605</td>\n      <td>0.168391</td>\n      <td>0.071554</td>\n      <td>0.127034</td>\n      <td>0.264010</td>\n      <td>0.156806</td>\n      <td>0.075478</td>\n    </tr>\n  </tbody>\n</table>\n</div>"
     },
     "metadata": {},
     "execution_count": 24
    }
   ],
   "source": [
    "# 设置df 的index 和 column\n",
    "index = pd.Series(np.arange(1,11))\n",
    "index = index.astype(str)\n",
    "index = 'T'+index\n",
    "\n",
    "column = pd.Series(np.arange(1,11))\n",
    "column = column.astype(str)\n",
    "column = 'delay'+column\n",
    "\n",
    "df.index = index\n",
    "df.columns = column\n",
    "\n",
    "df"
   ]
  },
  {
   "cell_type": "code",
   "execution_count": 25,
   "metadata": {},
   "outputs": [],
   "source": [
    "# 将DataFrame导出为 CSV\n",
    "# df.to_csv('memory.csv')\n",
    "df.to_csv('delay.csv')\n",
    "# df.to_csv('load.csv')\n",
    "# df.to_csv('time.csv')"
   ]
  }
 ]
}