{
 "metadata": {
  "language_info": {
   "codemirror_mode": {
    "name": "ipython",
    "version": 3
   },
   "file_extension": ".py",
   "mimetype": "text/x-python",
   "name": "python",
   "nbconvert_exporter": "python",
   "pygments_lexer": "ipython3",
   "version": "3.9.0"
  },
  "orig_nbformat": 2,
  "kernelspec": {
   "name": "python390jvsc74a57bd0e56dfdfdfe0e219775f7d573ae90715c327d44511900fcd145cd2e6f7088a9d6",
   "display_name": "Python 3.9.0 64-bit"
  }
 },
 "nbformat": 4,
 "nbformat_minor": 2,
 "cells": [
  {
   "cell_type": "code",
   "execution_count": null,
   "metadata": {},
   "outputs": [],
   "source": [
    "import numpy as np\n",
    "\n",
    "# 任务数量\n",
    "task_number = 50\n",
    "\n",
    "# 任务大小 服从 均值=4600M条指令 的 均匀分布\n",
    "xiaoshu3, task_size = np.modf(np.random.uniform(2000,7200,task_number))\n",
    "# 移动设备处理能力(MIPS)\n",
    "speed_moblieDevice = 500\n",
    "# cloudlet处理能力(MIPS)\n",
    "speed_cloudlet = 3846\n",
    "# clooud处理能力(MIPS)\n",
    "speed_cloud = 31790\n",
    "\n",
    "# 任务所需传输数据量 服从 均值=750KB 的 均匀分布\n",
    "# 假设下行的时间为上行的 0.6 倍\n",
    "xiaoshu1, task_upload = np.modf(np.random.uniform(200,1300,task_number))\n",
    "# 边缘传输速率：带宽设为100mbps 理论传输率最大 12.8MB/s  实际传输吞吐量 4-11MB/S\n",
    "xiaoshu2,trans_rate_clt = np.modf(np.random.uniform(4,11,task_number))\n",
    "# 云传输速率：带宽设为1Gbps 理论传输率最大 128MB/s  实际传输吞吐量 40-110MB/S\n",
    "xiaoshu4,trans_rate_c = np.modf(np.random.uniform(40,110,task_number))\n",
    "\n",
    "# 功率\n",
    "# 设 移动设备空闲时的功率为 5mW/sec 通信时的能耗为 20mW/sec   1w = 1 J/S     1mw = 1e-3 J/S\n",
    "power_idle = 5\n",
    "power_communication = 20\n",
    "power_excute = 60\n",
    "\n",
    "# 总的时间 和 能耗\n",
    "Tm = Tclt = Tc = 0\n",
    "Em = Eclt = Ec = 0"
   ]
  },
  {
   "cell_type": "code",
   "execution_count": null,
   "metadata": {},
   "outputs": [],
   "source": [
    "for i in range(task_number):\n",
    "    if task_size[i] <= 3000:\n",
    "        temp = task_size[i] / speed_moblieDevice\n",
    "        Tm += temp\n",
    "        Em += power_excute * temp\n",
    "    elif 3000 < task_size[i] < 6000:\n",
    "        Tclt_upload = (task_upload[i] / 1024) / trans_rate_clt[i]\n",
    "        Tclt_propagation = np.random.randint(5,50) / 3e8\n",
    "        Tclt_queue = np.random.uniform(0,1.5)\n",
    "        Tclt_excute = task_size[i] / speed_cloudlet\n",
    "        Tclt = Tclt + Tclt_upload * 1.6 + Tclt_propagation + Tclt_queue + Tclt_excute\n",
    "        Eclt = Eclt +  power_communication * Tclt_upload * 1.6 + power_idle * (Tclt_propagation + Tclt_queue + Tclt_excute)\n",
    "    else:\n",
    "        Tc_upload = (task_upload[i] / 1024) / trans_rate_c[i]\n",
    "        Tc_propagation = np.random.randint(1000,10000) / 3e8\n",
    "        Tc_excute = task_size[i] / speed_cloud\n",
    "        Tc = Tc +  Tc_upload * 1.6 + Tc_propagation  + Tc_excute\n",
    "        Ec = Ec + power_communication * Tc_upload * 1.6 + power_idle * (Tc_propagation + Tc_excute)\n",
    "print(\"执行这些任务的时间约为：\",round(Tm + Tclt + Tc,2))\n",
    "print(\"执行这些任务的能耗约为：\", round(Em + Eclt + Ec,2))"
   ]
  }
 ]
}