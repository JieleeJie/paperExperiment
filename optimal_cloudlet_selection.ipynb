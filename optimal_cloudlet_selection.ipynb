{
 "metadata": {
  "language_info": {
   "codemirror_mode": {
    "name": "ipython",
    "version": 3
   },
   "file_extension": ".py",
   "mimetype": "text/x-python",
   "name": "python",
   "nbconvert_exporter": "python",
   "pygments_lexer": "ipython3",
   "version": "3.9.0"
  },
  "orig_nbformat": 2,
  "kernelspec": {
   "name": "python390jvsc74a57bd0e56dfdfdfe0e219775f7d573ae90715c327d44511900fcd145cd2e6f7088a9d6",
   "display_name": "Python 3.9.0 64-bit"
  }
 },
 "nbformat": 4,
 "nbformat_minor": 2,
 "cells": [
  {
   "cell_type": "code",
   "execution_count": null,
   "metadata": {},
   "outputs": [],
   "source": [
    "import pandas as pd\n",
    "import numpy as np\n",
    "\n",
    "#读取文件\n",
    "mobility_raw = pd.read_csv('sojournTime.csv',index_col=0)\n",
    "delay_raw    = pd.read_csv('delay.csv',index_col=0)\n",
    "load_raw     = pd.read_csv('load.csv',index_col=0)\n",
    "compute_raw  = pd.read_csv('memory.csv',index_col=0)\n",
    "\n",
    "# 对delay和load进行同向化\n",
    "delay_txh = delay_raw.apply(lambda x: (np.max(x) - x)) \n",
    "load_txh = load_raw.apply(lambda x: (np.max(x) - x)) \n",
    "\n",
    "# 合并成一个DataFrame\n",
    "data = pd.concat([mobility_raw,delay_txh,load_txh,compute_raw],axis=1)\n",
    "\n",
    "# 对所有数据进行归一化\n",
    "data_nor = data.apply(lambda x: (x - np.min(x)) / (np.max(x) - np.min(x)))\n",
    "data_nor\n"
   ]
  },
  {
   "cell_type": "code",
   "execution_count": null,
   "metadata": {},
   "outputs": [],
   "source": [
    "# 云模型处理\n",
    "def cloud_model(df):\n",
    "    Ex = df.mean()\n",
    "    En = np.sqrt(np.pi/2)  * np.mean( np.abs(df-Ex) )\n",
    "    He = np.sqrt(np.abs(df.mean() * df.mean() - df.std() * df.std()))\n",
    "    return pd.concat([Ex,En,He],axis=1)\n",
    "data_cloudModel = cloud_model(data_nor)\n",
    "data_cloudModel"
   ]
  },
  {
   "cell_type": "code",
   "execution_count": null,
   "metadata": {},
   "outputs": [],
   "source": [
    "# 中智聚合\n",
    "\n",
    "# 中智数\n",
    "truth = data_cloudModel[0]\n",
    "indeterminacy = data_cloudModel[1]\n",
    "falsity = data_cloudModel[2]\n",
    "\n",
    "# 权重\n",
    "weight = [0.25,0.25,0.25,0.25]\n",
    "\n",
    "# 聚合之后的中智数\n",
    "aggre_truth = []\n",
    "aggre_indeterminacy = []\n",
    "aggre_falsity = []\n",
    "\n",
    "for i in range(10):\n",
    "    tempT = 1\n",
    "    tempI = 1\n",
    "    tempF = 1\n",
    "    for j in range(4):\n",
    "        tempT *= (1 - truth[i+10*j]) ** weight[j]\n",
    "        tempI *= indeterminacy[i+10*j] ** weight[j]\n",
    "        tempF *= falsity[i+10*j] ** weight[j]\n",
    "    aggre_truth.append((1-tempT))\n",
    "    aggre_indeterminacy.append(tempI)\n",
    "    aggre_falsity.append(tempF)\n",
    "\n",
    "# 添加索引\n",
    "index = pd.Series(np.arange(1,11))\n",
    "index = index.astype(str)\n",
    "index = 'cloudlet'+index\n",
    "neutrosophic = pd.DataFrame(np.vstack((aggre_truth,aggre_indeterminacy,aggre_falsity)).T,index=index)\n",
    "neutrosophic\n"
   ]
  },
  {
   "cell_type": "code",
   "execution_count": null,
   "metadata": {},
   "outputs": [],
   "source": [
    "# 得分函数\n",
    "score = neutrosophic[0]+1-neutrosophic[1]+1-neutrosophic[2]\n",
    "print(score)\n",
    "print('最佳cloudlet为：',score.idxmax())\n"
   ]
  }
 ]
}