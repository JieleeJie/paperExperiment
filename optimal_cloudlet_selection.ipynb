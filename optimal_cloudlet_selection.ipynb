{
 "metadata": {
  "language_info": {
   "codemirror_mode": {
    "name": "ipython",
    "version": 3
   },
   "file_extension": ".py",
   "mimetype": "text/x-python",
   "name": "python",
   "nbconvert_exporter": "python",
   "pygments_lexer": "ipython3",
   "version": "3.9.0"
  },
  "orig_nbformat": 2,
  "kernelspec": {
   "name": "python3",
   "display_name": "Python 3.9.0 64-bit"
  },
  "interpreter": {
   "hash": "e56dfdfdfe0e219775f7d573ae90715c327d44511900fcd145cd2e6f7088a9d6"
  }
 },
 "nbformat": 4,
 "nbformat_minor": 2,
 "cells": [
  {
   "cell_type": "code",
   "execution_count": 21,
   "metadata": {},
   "outputs": [
    {
     "output_type": "execute_result",
     "data": {
      "text/plain": [
       "    sojournTime0  sojournTime1  sojournTime2  sojournTime3  sojournTime4  \\\n",
       "T0      0.000000      0.220823      0.211634      0.409481      0.294586   \n",
       "T1      0.091234      1.000000      0.000000      0.717630      0.177389   \n",
       "T2      1.000000      0.471592      0.070914      0.832889      0.000000   \n",
       "T3      0.843713      0.186958      1.000000      0.366222      1.000000   \n",
       "T4      0.307418      0.207669      0.985042      1.000000      0.303185   \n",
       "T5      0.362555      0.390708      0.549030      0.000000      0.539172   \n",
       "T6      0.032130      0.685139      0.988920      0.589037      0.357006   \n",
       "T7      0.259024      0.000000      0.972853      0.231407      0.580573   \n",
       "T8      0.598969      0.439407      0.263158      0.143407      0.335987   \n",
       "T9      0.382388      0.308144      0.971745      0.548444      0.331847   \n",
       "\n",
       "    sojournTime5  sojournTime6  sojournTime7  sojournTime8  sojournTime9  ...  \\\n",
       "T0      0.143260      0.385737      0.054680      0.014521      0.984873  ...   \n",
       "T1      0.270423      0.171799      0.652943      0.866893      0.252389  ...   \n",
       "T2      0.000000      0.629822      0.608877      1.000000      1.000000  ...   \n",
       "T3      0.445070      0.946191      0.000000      0.059051      0.183121  ...   \n",
       "T4      0.664386      0.000000      0.467674      0.171346      0.000000  ...   \n",
       "T5      1.000000      1.000000      0.525893      0.934656      0.377389  ...   \n",
       "T6      0.609658      0.688817      1.000000      0.612294      0.294586  ...   \n",
       "T7      0.280080      0.099514      0.241878      0.708132      0.535828  ...   \n",
       "T8      0.553320      0.725446      0.598263      0.000000      0.148487  ...   \n",
       "T9      0.821328      0.705024      0.373110      0.324298      0.400478  ...   \n",
       "\n",
       "    memoryUtil10  memoryUtil11  memoryUtil12  memoryUtil13  memoryUtil14  \\\n",
       "T0      0.457143      0.966667      0.058824      0.617647      0.000000   \n",
       "T1      0.942857      0.333333      0.000000      0.970588      0.277778   \n",
       "T2      0.742857      0.766667      0.911765      0.000000      0.694444   \n",
       "T3      0.971429      0.133333      0.029412      0.352941      0.916667   \n",
       "T4      0.342857      0.066667      1.000000      0.323529      0.777778   \n",
       "T5      1.000000      0.833333      0.088235      1.000000      0.611111   \n",
       "T6      0.000000      0.233333      0.441176      0.029412      0.527778   \n",
       "T7      0.800000      1.000000      0.794118      0.382353      0.472222   \n",
       "T8      0.485714      0.233333      0.294118      0.029412      0.583333   \n",
       "T9      0.428571      0.000000      0.794118      0.352941      1.000000   \n",
       "\n",
       "    memoryUtil15  memoryUtil16  memoryUtil17  memoryUtil18  memoryUtil19  \n",
       "T0      0.769231          0.12      0.107143      0.552632      0.911765  \n",
       "T1      0.192308          1.00      0.714286      0.052632      1.000000  \n",
       "T2      0.076923          0.56      0.535714      0.026316      0.294118  \n",
       "T3      0.692308          0.00      0.107143      0.000000      0.294118  \n",
       "T4      0.230769          0.48      1.000000      0.236842      0.794118  \n",
       "T5      0.653846          0.48      0.607143      0.000000      0.676471  \n",
       "T6      1.000000          0.04      0.500000      0.000000      0.617647  \n",
       "T7      0.000000          0.64      0.535714      0.973684      0.000000  \n",
       "T8      0.192308          0.44      0.642857      1.000000      0.970588  \n",
       "T9      0.000000          0.12      0.000000      0.973684      0.088235  \n",
       "\n",
       "[10 rows x 80 columns]"
      ],
      "text/html": "<div>\n<style scoped>\n    .dataframe tbody tr th:only-of-type {\n        vertical-align: middle;\n    }\n\n    .dataframe tbody tr th {\n        vertical-align: top;\n    }\n\n    .dataframe thead th {\n        text-align: right;\n    }\n</style>\n<table border=\"1\" class=\"dataframe\">\n  <thead>\n    <tr style=\"text-align: right;\">\n      <th></th>\n      <th>sojournTime0</th>\n      <th>sojournTime1</th>\n      <th>sojournTime2</th>\n      <th>sojournTime3</th>\n      <th>sojournTime4</th>\n      <th>sojournTime5</th>\n      <th>sojournTime6</th>\n      <th>sojournTime7</th>\n      <th>sojournTime8</th>\n      <th>sojournTime9</th>\n      <th>...</th>\n      <th>memoryUtil10</th>\n      <th>memoryUtil11</th>\n      <th>memoryUtil12</th>\n      <th>memoryUtil13</th>\n      <th>memoryUtil14</th>\n      <th>memoryUtil15</th>\n      <th>memoryUtil16</th>\n      <th>memoryUtil17</th>\n      <th>memoryUtil18</th>\n      <th>memoryUtil19</th>\n    </tr>\n  </thead>\n  <tbody>\n    <tr>\n      <th>T0</th>\n      <td>0.000000</td>\n      <td>0.220823</td>\n      <td>0.211634</td>\n      <td>0.409481</td>\n      <td>0.294586</td>\n      <td>0.143260</td>\n      <td>0.385737</td>\n      <td>0.054680</td>\n      <td>0.014521</td>\n      <td>0.984873</td>\n      <td>...</td>\n      <td>0.457143</td>\n      <td>0.966667</td>\n      <td>0.058824</td>\n      <td>0.617647</td>\n      <td>0.000000</td>\n      <td>0.769231</td>\n      <td>0.12</td>\n      <td>0.107143</td>\n      <td>0.552632</td>\n      <td>0.911765</td>\n    </tr>\n    <tr>\n      <th>T1</th>\n      <td>0.091234</td>\n      <td>1.000000</td>\n      <td>0.000000</td>\n      <td>0.717630</td>\n      <td>0.177389</td>\n      <td>0.270423</td>\n      <td>0.171799</td>\n      <td>0.652943</td>\n      <td>0.866893</td>\n      <td>0.252389</td>\n      <td>...</td>\n      <td>0.942857</td>\n      <td>0.333333</td>\n      <td>0.000000</td>\n      <td>0.970588</td>\n      <td>0.277778</td>\n      <td>0.192308</td>\n      <td>1.00</td>\n      <td>0.714286</td>\n      <td>0.052632</td>\n      <td>1.000000</td>\n    </tr>\n    <tr>\n      <th>T2</th>\n      <td>1.000000</td>\n      <td>0.471592</td>\n      <td>0.070914</td>\n      <td>0.832889</td>\n      <td>0.000000</td>\n      <td>0.000000</td>\n      <td>0.629822</td>\n      <td>0.608877</td>\n      <td>1.000000</td>\n      <td>1.000000</td>\n      <td>...</td>\n      <td>0.742857</td>\n      <td>0.766667</td>\n      <td>0.911765</td>\n      <td>0.000000</td>\n      <td>0.694444</td>\n      <td>0.076923</td>\n      <td>0.56</td>\n      <td>0.535714</td>\n      <td>0.026316</td>\n      <td>0.294118</td>\n    </tr>\n    <tr>\n      <th>T3</th>\n      <td>0.843713</td>\n      <td>0.186958</td>\n      <td>1.000000</td>\n      <td>0.366222</td>\n      <td>1.000000</td>\n      <td>0.445070</td>\n      <td>0.946191</td>\n      <td>0.000000</td>\n      <td>0.059051</td>\n      <td>0.183121</td>\n      <td>...</td>\n      <td>0.971429</td>\n      <td>0.133333</td>\n      <td>0.029412</td>\n      <td>0.352941</td>\n      <td>0.916667</td>\n      <td>0.692308</td>\n      <td>0.00</td>\n      <td>0.107143</td>\n      <td>0.000000</td>\n      <td>0.294118</td>\n    </tr>\n    <tr>\n      <th>T4</th>\n      <td>0.307418</td>\n      <td>0.207669</td>\n      <td>0.985042</td>\n      <td>1.000000</td>\n      <td>0.303185</td>\n      <td>0.664386</td>\n      <td>0.000000</td>\n      <td>0.467674</td>\n      <td>0.171346</td>\n      <td>0.000000</td>\n      <td>...</td>\n      <td>0.342857</td>\n      <td>0.066667</td>\n      <td>1.000000</td>\n      <td>0.323529</td>\n      <td>0.777778</td>\n      <td>0.230769</td>\n      <td>0.48</td>\n      <td>1.000000</td>\n      <td>0.236842</td>\n      <td>0.794118</td>\n    </tr>\n    <tr>\n      <th>T5</th>\n      <td>0.362555</td>\n      <td>0.390708</td>\n      <td>0.549030</td>\n      <td>0.000000</td>\n      <td>0.539172</td>\n      <td>1.000000</td>\n      <td>1.000000</td>\n      <td>0.525893</td>\n      <td>0.934656</td>\n      <td>0.377389</td>\n      <td>...</td>\n      <td>1.000000</td>\n      <td>0.833333</td>\n      <td>0.088235</td>\n      <td>1.000000</td>\n      <td>0.611111</td>\n      <td>0.653846</td>\n      <td>0.48</td>\n      <td>0.607143</td>\n      <td>0.000000</td>\n      <td>0.676471</td>\n    </tr>\n    <tr>\n      <th>T6</th>\n      <td>0.032130</td>\n      <td>0.685139</td>\n      <td>0.988920</td>\n      <td>0.589037</td>\n      <td>0.357006</td>\n      <td>0.609658</td>\n      <td>0.688817</td>\n      <td>1.000000</td>\n      <td>0.612294</td>\n      <td>0.294586</td>\n      <td>...</td>\n      <td>0.000000</td>\n      <td>0.233333</td>\n      <td>0.441176</td>\n      <td>0.029412</td>\n      <td>0.527778</td>\n      <td>1.000000</td>\n      <td>0.04</td>\n      <td>0.500000</td>\n      <td>0.000000</td>\n      <td>0.617647</td>\n    </tr>\n    <tr>\n      <th>T7</th>\n      <td>0.259024</td>\n      <td>0.000000</td>\n      <td>0.972853</td>\n      <td>0.231407</td>\n      <td>0.580573</td>\n      <td>0.280080</td>\n      <td>0.099514</td>\n      <td>0.241878</td>\n      <td>0.708132</td>\n      <td>0.535828</td>\n      <td>...</td>\n      <td>0.800000</td>\n      <td>1.000000</td>\n      <td>0.794118</td>\n      <td>0.382353</td>\n      <td>0.472222</td>\n      <td>0.000000</td>\n      <td>0.64</td>\n      <td>0.535714</td>\n      <td>0.973684</td>\n      <td>0.000000</td>\n    </tr>\n    <tr>\n      <th>T8</th>\n      <td>0.598969</td>\n      <td>0.439407</td>\n      <td>0.263158</td>\n      <td>0.143407</td>\n      <td>0.335987</td>\n      <td>0.553320</td>\n      <td>0.725446</td>\n      <td>0.598263</td>\n      <td>0.000000</td>\n      <td>0.148487</td>\n      <td>...</td>\n      <td>0.485714</td>\n      <td>0.233333</td>\n      <td>0.294118</td>\n      <td>0.029412</td>\n      <td>0.583333</td>\n      <td>0.192308</td>\n      <td>0.44</td>\n      <td>0.642857</td>\n      <td>1.000000</td>\n      <td>0.970588</td>\n    </tr>\n    <tr>\n      <th>T9</th>\n      <td>0.382388</td>\n      <td>0.308144</td>\n      <td>0.971745</td>\n      <td>0.548444</td>\n      <td>0.331847</td>\n      <td>0.821328</td>\n      <td>0.705024</td>\n      <td>0.373110</td>\n      <td>0.324298</td>\n      <td>0.400478</td>\n      <td>...</td>\n      <td>0.428571</td>\n      <td>0.000000</td>\n      <td>0.794118</td>\n      <td>0.352941</td>\n      <td>1.000000</td>\n      <td>0.000000</td>\n      <td>0.12</td>\n      <td>0.000000</td>\n      <td>0.973684</td>\n      <td>0.088235</td>\n    </tr>\n  </tbody>\n</table>\n<p>10 rows × 80 columns</p>\n</div>"
     },
     "metadata": {},
     "execution_count": 21
    }
   ],
   "source": [
    "import pandas as pd\n",
    "import numpy as np\n",
    "\n",
    "#读取文件\n",
    "sojournTime_raw = pd.read_csv('sojournTime.csv',index_col=0)\n",
    "comDelay_raw    = pd.read_csv('comDelay.csv',index_col=0)\n",
    "load_raw     = pd.read_csv('load.csv',index_col=0)\n",
    "memoryUtil_raw  = pd.read_csv('memoryUtil.csv',index_col=0)\n",
    "\n",
    "# 得到cloudlet数量\n",
    "cloudlet_numbers = sojournTime_raw.shape[1]\n",
    "\n",
    "# 对comDelay和load进行同向化\n",
    "comDelay_txh = comDelay_raw.apply(lambda x: (np.max(x) - x)) \n",
    "load_txh = load_raw.apply(lambda x: (np.max(x) - x)) \n",
    "\n",
    "# 合并成一个DataFrame\n",
    "data = pd.concat([sojournTime_raw,comDelay_txh,load_txh,memoryUtil_raw],axis=1)\n",
    "\n",
    "# 对所有数据进行归一化\n",
    "data_nor = data.apply(lambda x: (x - np.min(x)) / (np.max(x) - np.min(x)))\n",
    "data_nor\n"
   ]
  },
  {
   "cell_type": "code",
   "execution_count": 22,
   "metadata": {},
   "outputs": [
    {
     "output_type": "execute_result",
     "data": {
      "text/plain": [
       "                     0         1         2\n",
       "sojournTime0  0.387743  0.320711  0.193595\n",
       "sojournTime1  0.391044  0.258674  0.267924\n",
       "sojournTime2  0.601330  0.479245  0.423063\n",
       "sojournTime3  0.483852  0.318026  0.367541\n",
       "sojournTime4  0.391975  0.236581  0.284963\n",
       "...                ...       ...       ...\n",
       "memoryUtil15  0.380769  0.399132  0.116934\n",
       "memoryUtil16  0.388000  0.318843  0.224186\n",
       "memoryUtil17  0.475000  0.303481  0.357125\n",
       "memoryUtil18  0.381579  0.494729  0.234434\n",
       "memoryUtil19  0.564706  0.396637  0.426235\n",
       "\n",
       "[80 rows x 3 columns]"
      ],
      "text/html": "<div>\n<style scoped>\n    .dataframe tbody tr th:only-of-type {\n        vertical-align: middle;\n    }\n\n    .dataframe tbody tr th {\n        vertical-align: top;\n    }\n\n    .dataframe thead th {\n        text-align: right;\n    }\n</style>\n<table border=\"1\" class=\"dataframe\">\n  <thead>\n    <tr style=\"text-align: right;\">\n      <th></th>\n      <th>0</th>\n      <th>1</th>\n      <th>2</th>\n    </tr>\n  </thead>\n  <tbody>\n    <tr>\n      <th>sojournTime0</th>\n      <td>0.387743</td>\n      <td>0.320711</td>\n      <td>0.193595</td>\n    </tr>\n    <tr>\n      <th>sojournTime1</th>\n      <td>0.391044</td>\n      <td>0.258674</td>\n      <td>0.267924</td>\n    </tr>\n    <tr>\n      <th>sojournTime2</th>\n      <td>0.601330</td>\n      <td>0.479245</td>\n      <td>0.423063</td>\n    </tr>\n    <tr>\n      <th>sojournTime3</th>\n      <td>0.483852</td>\n      <td>0.318026</td>\n      <td>0.367541</td>\n    </tr>\n    <tr>\n      <th>sojournTime4</th>\n      <td>0.391975</td>\n      <td>0.236581</td>\n      <td>0.284963</td>\n    </tr>\n    <tr>\n      <th>...</th>\n      <td>...</td>\n      <td>...</td>\n      <td>...</td>\n    </tr>\n    <tr>\n      <th>memoryUtil15</th>\n      <td>0.380769</td>\n      <td>0.399132</td>\n      <td>0.116934</td>\n    </tr>\n    <tr>\n      <th>memoryUtil16</th>\n      <td>0.388000</td>\n      <td>0.318843</td>\n      <td>0.224186</td>\n    </tr>\n    <tr>\n      <th>memoryUtil17</th>\n      <td>0.475000</td>\n      <td>0.303481</td>\n      <td>0.357125</td>\n    </tr>\n    <tr>\n      <th>memoryUtil18</th>\n      <td>0.381579</td>\n      <td>0.494729</td>\n      <td>0.234434</td>\n    </tr>\n    <tr>\n      <th>memoryUtil19</th>\n      <td>0.564706</td>\n      <td>0.396637</td>\n      <td>0.426235</td>\n    </tr>\n  </tbody>\n</table>\n<p>80 rows × 3 columns</p>\n</div>"
     },
     "metadata": {},
     "execution_count": 22
    }
   ],
   "source": [
    "# 云模型处理\n",
    "def cloud_model(df):\n",
    "    Ex = df.mean()\n",
    "    En = np.sqrt(np.pi/2)  * np.mean( np.abs(df-Ex) )\n",
    "    He = np.sqrt(np.abs(df.mean() * df.mean() - df.std() * df.std()))\n",
    "    return pd.concat([Ex,En,He],axis=1)\n",
    "data_cloudModel = cloud_model(data_nor)\n",
    "data_cloudModel"
   ]
  },
  {
   "cell_type": "code",
   "execution_count": 23,
   "metadata": {},
   "outputs": [
    {
     "output_type": "execute_result",
     "data": {
      "text/plain": [
       "           0         1         2\n",
       "0   0.468767  0.305705  0.322828\n",
       "1   0.484575  0.292182  0.352018\n",
       "2   0.571099  0.373038  0.436926\n",
       "3   0.476705  0.366530  0.310509\n",
       "4   0.412808  0.259121  0.254990\n",
       "5   0.492543  0.336593  0.345442\n",
       "6   0.418035  0.360352  0.143293\n",
       "7   0.493556  0.320051  0.363307\n",
       "8   0.503184  0.370967  0.322020\n",
       "9   0.476993  0.318540  0.303974\n",
       "10  0.512806  0.294170  0.405014\n",
       "11  0.524498  0.312668  0.400593\n",
       "12  0.507298  0.330827  0.268397\n",
       "13  0.483891  0.361614  0.320240\n",
       "14  0.447594  0.266888  0.284305\n",
       "15  0.481175  0.319390  0.336292\n",
       "16  0.399638  0.340427  0.140512\n",
       "17  0.511155  0.302786  0.390340\n",
       "18  0.547443  0.348143  0.391781\n",
       "19  0.501046  0.311388  0.347174"
      ],
      "text/html": "<div>\n<style scoped>\n    .dataframe tbody tr th:only-of-type {\n        vertical-align: middle;\n    }\n\n    .dataframe tbody tr th {\n        vertical-align: top;\n    }\n\n    .dataframe thead th {\n        text-align: right;\n    }\n</style>\n<table border=\"1\" class=\"dataframe\">\n  <thead>\n    <tr style=\"text-align: right;\">\n      <th></th>\n      <th>0</th>\n      <th>1</th>\n      <th>2</th>\n    </tr>\n  </thead>\n  <tbody>\n    <tr>\n      <th>0</th>\n      <td>0.468767</td>\n      <td>0.305705</td>\n      <td>0.322828</td>\n    </tr>\n    <tr>\n      <th>1</th>\n      <td>0.484575</td>\n      <td>0.292182</td>\n      <td>0.352018</td>\n    </tr>\n    <tr>\n      <th>2</th>\n      <td>0.571099</td>\n      <td>0.373038</td>\n      <td>0.436926</td>\n    </tr>\n    <tr>\n      <th>3</th>\n      <td>0.476705</td>\n      <td>0.366530</td>\n      <td>0.310509</td>\n    </tr>\n    <tr>\n      <th>4</th>\n      <td>0.412808</td>\n      <td>0.259121</td>\n      <td>0.254990</td>\n    </tr>\n    <tr>\n      <th>5</th>\n      <td>0.492543</td>\n      <td>0.336593</td>\n      <td>0.345442</td>\n    </tr>\n    <tr>\n      <th>6</th>\n      <td>0.418035</td>\n      <td>0.360352</td>\n      <td>0.143293</td>\n    </tr>\n    <tr>\n      <th>7</th>\n      <td>0.493556</td>\n      <td>0.320051</td>\n      <td>0.363307</td>\n    </tr>\n    <tr>\n      <th>8</th>\n      <td>0.503184</td>\n      <td>0.370967</td>\n      <td>0.322020</td>\n    </tr>\n    <tr>\n      <th>9</th>\n      <td>0.476993</td>\n      <td>0.318540</td>\n      <td>0.303974</td>\n    </tr>\n    <tr>\n      <th>10</th>\n      <td>0.512806</td>\n      <td>0.294170</td>\n      <td>0.405014</td>\n    </tr>\n    <tr>\n      <th>11</th>\n      <td>0.524498</td>\n      <td>0.312668</td>\n      <td>0.400593</td>\n    </tr>\n    <tr>\n      <th>12</th>\n      <td>0.507298</td>\n      <td>0.330827</td>\n      <td>0.268397</td>\n    </tr>\n    <tr>\n      <th>13</th>\n      <td>0.483891</td>\n      <td>0.361614</td>\n      <td>0.320240</td>\n    </tr>\n    <tr>\n      <th>14</th>\n      <td>0.447594</td>\n      <td>0.266888</td>\n      <td>0.284305</td>\n    </tr>\n    <tr>\n      <th>15</th>\n      <td>0.481175</td>\n      <td>0.319390</td>\n      <td>0.336292</td>\n    </tr>\n    <tr>\n      <th>16</th>\n      <td>0.399638</td>\n      <td>0.340427</td>\n      <td>0.140512</td>\n    </tr>\n    <tr>\n      <th>17</th>\n      <td>0.511155</td>\n      <td>0.302786</td>\n      <td>0.390340</td>\n    </tr>\n    <tr>\n      <th>18</th>\n      <td>0.547443</td>\n      <td>0.348143</td>\n      <td>0.391781</td>\n    </tr>\n    <tr>\n      <th>19</th>\n      <td>0.501046</td>\n      <td>0.311388</td>\n      <td>0.347174</td>\n    </tr>\n  </tbody>\n</table>\n</div>"
     },
     "metadata": {},
     "execution_count": 23
    }
   ],
   "source": [
    "# 中智聚合\n",
    "\n",
    "# 中智数\n",
    "truth = data_cloudModel[0]\n",
    "indeterminacy = data_cloudModel[1]\n",
    "falsity = data_cloudModel[2]\n",
    "\n",
    "# 权重\n",
    "weight = [0.25,0.25,0.25,0.25]\n",
    "\n",
    "# 聚合之后的中智数\n",
    "aggre_truth = []\n",
    "aggre_indeterminacy = []\n",
    "aggre_falsity = []\n",
    "\n",
    "for i in range(cloudlet_numbers):\n",
    "    tempT = 1\n",
    "    tempI = 1\n",
    "    tempF = 1\n",
    "    # 四个属性\n",
    "    for j in range(4):\n",
    "        tempT *= (1 - truth[i+10*j]) ** weight[j]\n",
    "        tempI *= indeterminacy[i+10*j] ** weight[j]\n",
    "        tempF *= falsity[i+10*j] ** weight[j]\n",
    "    aggre_truth.append((1-tempT))\n",
    "    aggre_indeterminacy.append(tempI)\n",
    "    aggre_falsity.append(tempF)\n",
    "\n",
    "# 添加索引\n",
    "# index = pd.Series(np.arange(0,cloudlet_numbers))\n",
    "# index = index.astype(str)\n",
    "# index = 'cloudlet'+index\n",
    "neutrosophic = pd.DataFrame(np.vstack((aggre_truth,aggre_indeterminacy,aggre_falsity)).T)\n",
    "neutrosophic\n"
   ]
  },
  {
   "cell_type": "code",
   "execution_count": 24,
   "metadata": {},
   "outputs": [
    {
     "output_type": "stream",
     "name": "stdout",
     "text": [
      "0     1.840234\n1     1.840375\n2     1.761135\n3     1.799666\n4     1.898696\n5     1.810508\n6     1.914389\n7     1.810199\n8     1.810197\n9     1.854479\n10    1.813622\n11    1.811238\n12    1.908074\n13    1.802038\n14    1.896401\n15    1.825492\n16    1.918700\n17    1.818029\n18    1.807520\n19    1.842484\ndtype: float64\n最佳cloudlet为： 16\n"
     ]
    }
   ],
   "source": [
    "# 得分函数\n",
    "score = neutrosophic[0]+1-neutrosophic[1]+1-neutrosophic[2]\n",
    "print(score)\n",
    "print('最佳cloudlet为：',score.idxmax())\n",
    "\n",
    "with open(\"optimal_cloudlet.txt\",\"w\") as f:\n",
    "        f.write(str(score.idxmax()))  #这句话自带文件关闭功能，不需要再写f.close()\n"
   ]
  }
 ]
}