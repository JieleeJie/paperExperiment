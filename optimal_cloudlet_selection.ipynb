{
 "metadata": {
  "language_info": {
   "codemirror_mode": {
    "name": "ipython",
    "version": 3
   },
   "file_extension": ".py",
   "mimetype": "text/x-python",
   "name": "python",
   "nbconvert_exporter": "python",
   "pygments_lexer": "ipython3",
   "version": "3.9.0"
  },
  "orig_nbformat": 2,
  "kernelspec": {
   "name": "python3",
   "display_name": "Python 3.9.0 64-bit"
  },
  "interpreter": {
   "hash": "e56dfdfdfe0e219775f7d573ae90715c327d44511900fcd145cd2e6f7088a9d6"
  }
 },
 "nbformat": 4,
 "nbformat_minor": 2,
 "cells": [
  {
   "cell_type": "code",
   "execution_count": 1,
   "metadata": {},
   "outputs": [
    {
     "output_type": "execute_result",
     "data": {
      "text/plain": [
       "     sojournTime1  sojournTime2  sojournTime3  sojournTime4  sojournTime5  \\\n",
       "T1       0.379310      0.216216      0.142857      0.238095      0.973684   \n",
       "T2       0.689655      0.297297      0.571429      0.666667      0.210526   \n",
       "T3       0.758621      0.297297      0.380952      0.142857      0.263158   \n",
       "T4       0.448276      0.189189      0.571429      0.000000      0.000000   \n",
       "T5       0.448276      0.324324      0.000000      0.380952      1.000000   \n",
       "T6       0.000000      0.513514      0.380952      0.142857      0.184211   \n",
       "T7       0.517241      0.000000      1.000000      0.476190      0.500000   \n",
       "T8       0.379310      1.000000      0.809524      0.571429      0.157895   \n",
       "T9       1.000000      0.864865      0.571429      1.000000      0.210526   \n",
       "T10      0.931034      0.513514      0.809524      0.095238      0.710526   \n",
       "\n",
       "     sojournTime6  sojournTime7  sojournTime8  sojournTime9  sojournTime10  \\\n",
       "T1           0.56      0.461538      0.421053      0.194444           0.52   \n",
       "T2           0.00      0.230769      0.789474      0.027778           0.32   \n",
       "T3           0.88      0.000000      0.526316      0.555556           1.00   \n",
       "T4           0.20      0.769231      0.210526      0.527778           0.52   \n",
       "T5           0.44      0.846154      0.473684      1.000000           0.52   \n",
       "T6           0.04      0.128205      1.000000      0.861111           0.76   \n",
       "T7           0.40      1.000000      0.421053      0.694444           0.20   \n",
       "T8           0.28      0.230769      0.842105      0.416667           0.24   \n",
       "T9           0.84      0.461538      0.789474      0.000000           0.00   \n",
       "T10          1.00      0.538462      0.000000      0.388889           0.60   \n",
       "\n",
       "     ...  memory11  memory12  memory13  memory14  memory15  memory16  \\\n",
       "T1   ...  0.000000  0.157895  0.083333  0.944444  0.032258  0.294118   \n",
       "T2   ...  0.617647  0.289474  0.666667  0.666667  0.129032  0.088235   \n",
       "T3   ...  1.000000  0.394737  0.958333  0.833333  0.258065  0.000000   \n",
       "T4   ...  0.117647  0.947368  1.000000  1.000000  0.193548  0.176471   \n",
       "T5   ...  0.882353  0.368421  0.125000  1.000000  0.967742  1.000000   \n",
       "T6   ...  0.352941  1.000000  0.666667  0.666667  0.322581  0.382353   \n",
       "T7   ...  0.970588  0.473684  0.791667  1.000000  1.000000  0.676471   \n",
       "T8   ...  0.823529  0.184211  0.000000  0.000000  0.483871  0.117647   \n",
       "T9   ...  0.500000  0.000000  0.708333  0.055556  0.000000  0.264706   \n",
       "T10  ...  0.911765  0.473684  0.916667  0.333333  0.580645  0.588235   \n",
       "\n",
       "     memory17  memory18  memory19  memory20  \n",
       "T1   0.000000   0.03125  0.074074  0.972222  \n",
       "T2   0.179487   1.00000  0.777778  0.555556  \n",
       "T3   0.871795   0.78125  1.000000  0.000000  \n",
       "T4   0.666667   0.28125  0.222222  0.333333  \n",
       "T5   0.666667   0.37500  0.000000  0.888889  \n",
       "T6   0.743590   0.18750  0.333333  0.722222  \n",
       "T7   0.743590   0.00000  0.777778  1.000000  \n",
       "T8   1.000000   0.81250  0.666667  0.222222  \n",
       "T9   0.846154   0.71875  0.666667  0.111111  \n",
       "T10  0.846154   0.00000  0.444444  0.111111  \n",
       "\n",
       "[10 rows x 80 columns]"
      ],
      "text/html": "<div>\n<style scoped>\n    .dataframe tbody tr th:only-of-type {\n        vertical-align: middle;\n    }\n\n    .dataframe tbody tr th {\n        vertical-align: top;\n    }\n\n    .dataframe thead th {\n        text-align: right;\n    }\n</style>\n<table border=\"1\" class=\"dataframe\">\n  <thead>\n    <tr style=\"text-align: right;\">\n      <th></th>\n      <th>sojournTime1</th>\n      <th>sojournTime2</th>\n      <th>sojournTime3</th>\n      <th>sojournTime4</th>\n      <th>sojournTime5</th>\n      <th>sojournTime6</th>\n      <th>sojournTime7</th>\n      <th>sojournTime8</th>\n      <th>sojournTime9</th>\n      <th>sojournTime10</th>\n      <th>...</th>\n      <th>memory11</th>\n      <th>memory12</th>\n      <th>memory13</th>\n      <th>memory14</th>\n      <th>memory15</th>\n      <th>memory16</th>\n      <th>memory17</th>\n      <th>memory18</th>\n      <th>memory19</th>\n      <th>memory20</th>\n    </tr>\n  </thead>\n  <tbody>\n    <tr>\n      <th>T1</th>\n      <td>0.379310</td>\n      <td>0.216216</td>\n      <td>0.142857</td>\n      <td>0.238095</td>\n      <td>0.973684</td>\n      <td>0.56</td>\n      <td>0.461538</td>\n      <td>0.421053</td>\n      <td>0.194444</td>\n      <td>0.52</td>\n      <td>...</td>\n      <td>0.000000</td>\n      <td>0.157895</td>\n      <td>0.083333</td>\n      <td>0.944444</td>\n      <td>0.032258</td>\n      <td>0.294118</td>\n      <td>0.000000</td>\n      <td>0.03125</td>\n      <td>0.074074</td>\n      <td>0.972222</td>\n    </tr>\n    <tr>\n      <th>T2</th>\n      <td>0.689655</td>\n      <td>0.297297</td>\n      <td>0.571429</td>\n      <td>0.666667</td>\n      <td>0.210526</td>\n      <td>0.00</td>\n      <td>0.230769</td>\n      <td>0.789474</td>\n      <td>0.027778</td>\n      <td>0.32</td>\n      <td>...</td>\n      <td>0.617647</td>\n      <td>0.289474</td>\n      <td>0.666667</td>\n      <td>0.666667</td>\n      <td>0.129032</td>\n      <td>0.088235</td>\n      <td>0.179487</td>\n      <td>1.00000</td>\n      <td>0.777778</td>\n      <td>0.555556</td>\n    </tr>\n    <tr>\n      <th>T3</th>\n      <td>0.758621</td>\n      <td>0.297297</td>\n      <td>0.380952</td>\n      <td>0.142857</td>\n      <td>0.263158</td>\n      <td>0.88</td>\n      <td>0.000000</td>\n      <td>0.526316</td>\n      <td>0.555556</td>\n      <td>1.00</td>\n      <td>...</td>\n      <td>1.000000</td>\n      <td>0.394737</td>\n      <td>0.958333</td>\n      <td>0.833333</td>\n      <td>0.258065</td>\n      <td>0.000000</td>\n      <td>0.871795</td>\n      <td>0.78125</td>\n      <td>1.000000</td>\n      <td>0.000000</td>\n    </tr>\n    <tr>\n      <th>T4</th>\n      <td>0.448276</td>\n      <td>0.189189</td>\n      <td>0.571429</td>\n      <td>0.000000</td>\n      <td>0.000000</td>\n      <td>0.20</td>\n      <td>0.769231</td>\n      <td>0.210526</td>\n      <td>0.527778</td>\n      <td>0.52</td>\n      <td>...</td>\n      <td>0.117647</td>\n      <td>0.947368</td>\n      <td>1.000000</td>\n      <td>1.000000</td>\n      <td>0.193548</td>\n      <td>0.176471</td>\n      <td>0.666667</td>\n      <td>0.28125</td>\n      <td>0.222222</td>\n      <td>0.333333</td>\n    </tr>\n    <tr>\n      <th>T5</th>\n      <td>0.448276</td>\n      <td>0.324324</td>\n      <td>0.000000</td>\n      <td>0.380952</td>\n      <td>1.000000</td>\n      <td>0.44</td>\n      <td>0.846154</td>\n      <td>0.473684</td>\n      <td>1.000000</td>\n      <td>0.52</td>\n      <td>...</td>\n      <td>0.882353</td>\n      <td>0.368421</td>\n      <td>0.125000</td>\n      <td>1.000000</td>\n      <td>0.967742</td>\n      <td>1.000000</td>\n      <td>0.666667</td>\n      <td>0.37500</td>\n      <td>0.000000</td>\n      <td>0.888889</td>\n    </tr>\n    <tr>\n      <th>T6</th>\n      <td>0.000000</td>\n      <td>0.513514</td>\n      <td>0.380952</td>\n      <td>0.142857</td>\n      <td>0.184211</td>\n      <td>0.04</td>\n      <td>0.128205</td>\n      <td>1.000000</td>\n      <td>0.861111</td>\n      <td>0.76</td>\n      <td>...</td>\n      <td>0.352941</td>\n      <td>1.000000</td>\n      <td>0.666667</td>\n      <td>0.666667</td>\n      <td>0.322581</td>\n      <td>0.382353</td>\n      <td>0.743590</td>\n      <td>0.18750</td>\n      <td>0.333333</td>\n      <td>0.722222</td>\n    </tr>\n    <tr>\n      <th>T7</th>\n      <td>0.517241</td>\n      <td>0.000000</td>\n      <td>1.000000</td>\n      <td>0.476190</td>\n      <td>0.500000</td>\n      <td>0.40</td>\n      <td>1.000000</td>\n      <td>0.421053</td>\n      <td>0.694444</td>\n      <td>0.20</td>\n      <td>...</td>\n      <td>0.970588</td>\n      <td>0.473684</td>\n      <td>0.791667</td>\n      <td>1.000000</td>\n      <td>1.000000</td>\n      <td>0.676471</td>\n      <td>0.743590</td>\n      <td>0.00000</td>\n      <td>0.777778</td>\n      <td>1.000000</td>\n    </tr>\n    <tr>\n      <th>T8</th>\n      <td>0.379310</td>\n      <td>1.000000</td>\n      <td>0.809524</td>\n      <td>0.571429</td>\n      <td>0.157895</td>\n      <td>0.28</td>\n      <td>0.230769</td>\n      <td>0.842105</td>\n      <td>0.416667</td>\n      <td>0.24</td>\n      <td>...</td>\n      <td>0.823529</td>\n      <td>0.184211</td>\n      <td>0.000000</td>\n      <td>0.000000</td>\n      <td>0.483871</td>\n      <td>0.117647</td>\n      <td>1.000000</td>\n      <td>0.81250</td>\n      <td>0.666667</td>\n      <td>0.222222</td>\n    </tr>\n    <tr>\n      <th>T9</th>\n      <td>1.000000</td>\n      <td>0.864865</td>\n      <td>0.571429</td>\n      <td>1.000000</td>\n      <td>0.210526</td>\n      <td>0.84</td>\n      <td>0.461538</td>\n      <td>0.789474</td>\n      <td>0.000000</td>\n      <td>0.00</td>\n      <td>...</td>\n      <td>0.500000</td>\n      <td>0.000000</td>\n      <td>0.708333</td>\n      <td>0.055556</td>\n      <td>0.000000</td>\n      <td>0.264706</td>\n      <td>0.846154</td>\n      <td>0.71875</td>\n      <td>0.666667</td>\n      <td>0.111111</td>\n    </tr>\n    <tr>\n      <th>T10</th>\n      <td>0.931034</td>\n      <td>0.513514</td>\n      <td>0.809524</td>\n      <td>0.095238</td>\n      <td>0.710526</td>\n      <td>1.00</td>\n      <td>0.538462</td>\n      <td>0.000000</td>\n      <td>0.388889</td>\n      <td>0.60</td>\n      <td>...</td>\n      <td>0.911765</td>\n      <td>0.473684</td>\n      <td>0.916667</td>\n      <td>0.333333</td>\n      <td>0.580645</td>\n      <td>0.588235</td>\n      <td>0.846154</td>\n      <td>0.00000</td>\n      <td>0.444444</td>\n      <td>0.111111</td>\n    </tr>\n  </tbody>\n</table>\n<p>10 rows × 80 columns</p>\n</div>"
     },
     "metadata": {},
     "execution_count": 1
    }
   ],
   "source": [
    "import pandas as pd\n",
    "import numpy as np\n",
    "\n",
    "#读取文件\n",
    "mobility_raw = pd.read_csv('sojournTime.csv',index_col=0)\n",
    "delay_raw    = pd.read_csv('delay.csv',index_col=0)\n",
    "load_raw     = pd.read_csv('load.csv',index_col=0)\n",
    "compute_raw  = pd.read_csv('memory.csv',index_col=0)\n",
    "\n",
    "# 得到cloudlet数量\n",
    "cloudlet_numbers = mobility_raw.shape[1]\n",
    "\n",
    "# 对delay和load进行同向化\n",
    "delay_txh = delay_raw.apply(lambda x: (np.max(x) - x)) \n",
    "load_txh = load_raw.apply(lambda x: (np.max(x) - x)) \n",
    "\n",
    "# 合并成一个DataFrame\n",
    "data = pd.concat([mobility_raw,delay_txh,load_txh,compute_raw],axis=1)\n",
    "\n",
    "# 对所有数据进行归一化\n",
    "data_nor = data.apply(lambda x: (x - np.min(x)) / (np.max(x) - np.min(x)))\n",
    "data_nor\n"
   ]
  },
  {
   "cell_type": "code",
   "execution_count": 2,
   "metadata": {},
   "outputs": [
    {
     "output_type": "execute_result",
     "data": {
      "text/plain": [
       "                     0         1         2\n",
       "sojournTime1  0.555172  0.290423  0.469156\n",
       "sojournTime2  0.421622  0.302150  0.286288\n",
       "sojournTime3  0.523810  0.298408  0.423247\n",
       "sojournTime4  0.371429  0.310344  0.203249\n",
       "sojournTime5  0.421053  0.375994  0.223297\n",
       "...                ...       ...       ...\n",
       "memory16      0.358824  0.303744  0.178625\n",
       "memory17      0.656410  0.284085  0.574232\n",
       "memory18      0.418750  0.410460  0.179106\n",
       "memory19      0.496296  0.352785  0.367818\n",
       "memory20      0.491667  0.421253  0.305907\n",
       "\n",
       "[80 rows x 3 columns]"
      ],
      "text/html": "<div>\n<style scoped>\n    .dataframe tbody tr th:only-of-type {\n        vertical-align: middle;\n    }\n\n    .dataframe tbody tr th {\n        vertical-align: top;\n    }\n\n    .dataframe thead th {\n        text-align: right;\n    }\n</style>\n<table border=\"1\" class=\"dataframe\">\n  <thead>\n    <tr style=\"text-align: right;\">\n      <th></th>\n      <th>0</th>\n      <th>1</th>\n      <th>2</th>\n    </tr>\n  </thead>\n  <tbody>\n    <tr>\n      <th>sojournTime1</th>\n      <td>0.555172</td>\n      <td>0.290423</td>\n      <td>0.469156</td>\n    </tr>\n    <tr>\n      <th>sojournTime2</th>\n      <td>0.421622</td>\n      <td>0.302150</td>\n      <td>0.286288</td>\n    </tr>\n    <tr>\n      <th>sojournTime3</th>\n      <td>0.523810</td>\n      <td>0.298408</td>\n      <td>0.423247</td>\n    </tr>\n    <tr>\n      <th>sojournTime4</th>\n      <td>0.371429</td>\n      <td>0.310344</td>\n      <td>0.203249</td>\n    </tr>\n    <tr>\n      <th>sojournTime5</th>\n      <td>0.421053</td>\n      <td>0.375994</td>\n      <td>0.223297</td>\n    </tr>\n    <tr>\n      <th>...</th>\n      <td>...</td>\n      <td>...</td>\n      <td>...</td>\n    </tr>\n    <tr>\n      <th>memory16</th>\n      <td>0.358824</td>\n      <td>0.303744</td>\n      <td>0.178625</td>\n    </tr>\n    <tr>\n      <th>memory17</th>\n      <td>0.656410</td>\n      <td>0.284085</td>\n      <td>0.574232</td>\n    </tr>\n    <tr>\n      <th>memory18</th>\n      <td>0.418750</td>\n      <td>0.410460</td>\n      <td>0.179106</td>\n    </tr>\n    <tr>\n      <th>memory19</th>\n      <td>0.496296</td>\n      <td>0.352785</td>\n      <td>0.367818</td>\n    </tr>\n    <tr>\n      <th>memory20</th>\n      <td>0.491667</td>\n      <td>0.421253</td>\n      <td>0.305907</td>\n    </tr>\n  </tbody>\n</table>\n<p>80 rows × 3 columns</p>\n</div>"
     },
     "metadata": {},
     "execution_count": 2
    }
   ],
   "source": [
    "# 云模型处理\n",
    "def cloud_model(df):\n",
    "    Ex = df.mean()\n",
    "    En = np.sqrt(np.pi/2)  * np.mean( np.abs(df-Ex) )\n",
    "    He = np.sqrt(np.abs(df.mean() * df.mean() - df.std() * df.std()))\n",
    "    return pd.concat([Ex,En,He],axis=1)\n",
    "data_cloudModel = cloud_model(data_nor)\n",
    "data_cloudModel"
   ]
  },
  {
   "cell_type": "code",
   "execution_count": 3,
   "metadata": {},
   "outputs": [
    {
     "output_type": "execute_result",
     "data": {
      "text/plain": [
       "                   0         1         2\n",
       "cloudlet1   0.526447  0.314963  0.371707\n",
       "cloudlet2   0.509908  0.301745  0.381306\n",
       "cloudlet3   0.470842  0.341676  0.313300\n",
       "cloudlet4   0.507993  0.336930  0.322545\n",
       "cloudlet5   0.455263  0.320972  0.301983\n",
       "cloudlet6   0.464035  0.334095  0.218249\n",
       "cloudlet7   0.536896  0.299015  0.421487\n",
       "cloudlet8   0.484955  0.327636  0.315251\n",
       "cloudlet9   0.485953  0.373954  0.325153\n",
       "cloudlet10  0.454860  0.315618  0.312730\n",
       "cloudlet11  0.553997  0.302734  0.392691\n",
       "cloudlet12  0.528558  0.300806  0.416629\n",
       "cloudlet13  0.459070  0.352589  0.298937\n",
       "cloudlet14  0.568628  0.354327  0.405792\n",
       "cloudlet15  0.463431  0.295322  0.339159\n",
       "cloudlet16  0.433161  0.322430  0.161917\n",
       "cloudlet17  0.562947  0.302383  0.458377\n",
       "cloudlet18  0.453204  0.355130  0.235707\n",
       "cloudlet19  0.487104  0.352312  0.336514\n",
       "cloudlet20  0.452400  0.310504  0.310699"
      ],
      "text/html": "<div>\n<style scoped>\n    .dataframe tbody tr th:only-of-type {\n        vertical-align: middle;\n    }\n\n    .dataframe tbody tr th {\n        vertical-align: top;\n    }\n\n    .dataframe thead th {\n        text-align: right;\n    }\n</style>\n<table border=\"1\" class=\"dataframe\">\n  <thead>\n    <tr style=\"text-align: right;\">\n      <th></th>\n      <th>0</th>\n      <th>1</th>\n      <th>2</th>\n    </tr>\n  </thead>\n  <tbody>\n    <tr>\n      <th>cloudlet1</th>\n      <td>0.526447</td>\n      <td>0.314963</td>\n      <td>0.371707</td>\n    </tr>\n    <tr>\n      <th>cloudlet2</th>\n      <td>0.509908</td>\n      <td>0.301745</td>\n      <td>0.381306</td>\n    </tr>\n    <tr>\n      <th>cloudlet3</th>\n      <td>0.470842</td>\n      <td>0.341676</td>\n      <td>0.313300</td>\n    </tr>\n    <tr>\n      <th>cloudlet4</th>\n      <td>0.507993</td>\n      <td>0.336930</td>\n      <td>0.322545</td>\n    </tr>\n    <tr>\n      <th>cloudlet5</th>\n      <td>0.455263</td>\n      <td>0.320972</td>\n      <td>0.301983</td>\n    </tr>\n    <tr>\n      <th>cloudlet6</th>\n      <td>0.464035</td>\n      <td>0.334095</td>\n      <td>0.218249</td>\n    </tr>\n    <tr>\n      <th>cloudlet7</th>\n      <td>0.536896</td>\n      <td>0.299015</td>\n      <td>0.421487</td>\n    </tr>\n    <tr>\n      <th>cloudlet8</th>\n      <td>0.484955</td>\n      <td>0.327636</td>\n      <td>0.315251</td>\n    </tr>\n    <tr>\n      <th>cloudlet9</th>\n      <td>0.485953</td>\n      <td>0.373954</td>\n      <td>0.325153</td>\n    </tr>\n    <tr>\n      <th>cloudlet10</th>\n      <td>0.454860</td>\n      <td>0.315618</td>\n      <td>0.312730</td>\n    </tr>\n    <tr>\n      <th>cloudlet11</th>\n      <td>0.553997</td>\n      <td>0.302734</td>\n      <td>0.392691</td>\n    </tr>\n    <tr>\n      <th>cloudlet12</th>\n      <td>0.528558</td>\n      <td>0.300806</td>\n      <td>0.416629</td>\n    </tr>\n    <tr>\n      <th>cloudlet13</th>\n      <td>0.459070</td>\n      <td>0.352589</td>\n      <td>0.298937</td>\n    </tr>\n    <tr>\n      <th>cloudlet14</th>\n      <td>0.568628</td>\n      <td>0.354327</td>\n      <td>0.405792</td>\n    </tr>\n    <tr>\n      <th>cloudlet15</th>\n      <td>0.463431</td>\n      <td>0.295322</td>\n      <td>0.339159</td>\n    </tr>\n    <tr>\n      <th>cloudlet16</th>\n      <td>0.433161</td>\n      <td>0.322430</td>\n      <td>0.161917</td>\n    </tr>\n    <tr>\n      <th>cloudlet17</th>\n      <td>0.562947</td>\n      <td>0.302383</td>\n      <td>0.458377</td>\n    </tr>\n    <tr>\n      <th>cloudlet18</th>\n      <td>0.453204</td>\n      <td>0.355130</td>\n      <td>0.235707</td>\n    </tr>\n    <tr>\n      <th>cloudlet19</th>\n      <td>0.487104</td>\n      <td>0.352312</td>\n      <td>0.336514</td>\n    </tr>\n    <tr>\n      <th>cloudlet20</th>\n      <td>0.452400</td>\n      <td>0.310504</td>\n      <td>0.310699</td>\n    </tr>\n  </tbody>\n</table>\n</div>"
     },
     "metadata": {},
     "execution_count": 3
    }
   ],
   "source": [
    "# 中智聚合\n",
    "\n",
    "# 中智数\n",
    "truth = data_cloudModel[0]\n",
    "indeterminacy = data_cloudModel[1]\n",
    "falsity = data_cloudModel[2]\n",
    "\n",
    "# 权重\n",
    "weight = [0.25,0.25,0.25,0.25]\n",
    "\n",
    "# 聚合之后的中智数\n",
    "aggre_truth = []\n",
    "aggre_indeterminacy = []\n",
    "aggre_falsity = []\n",
    "\n",
    "for i in range(cloudlet_numbers):\n",
    "    tempT = 1\n",
    "    tempI = 1\n",
    "    tempF = 1\n",
    "    # 四个属性\n",
    "    for j in range(4):\n",
    "        tempT *= (1 - truth[i+10*j]) ** weight[j]\n",
    "        tempI *= indeterminacy[i+10*j] ** weight[j]\n",
    "        tempF *= falsity[i+10*j] ** weight[j]\n",
    "    aggre_truth.append((1-tempT))\n",
    "    aggre_indeterminacy.append(tempI)\n",
    "    aggre_falsity.append(tempF)\n",
    "\n",
    "# 添加索引\n",
    "index = pd.Series(np.arange(1,cloudlet_numbers+1))\n",
    "index = index.astype(str)\n",
    "index = 'cloudlet'+index\n",
    "neutrosophic = pd.DataFrame(np.vstack((aggre_truth,aggre_indeterminacy,aggre_falsity)).T,index=index)\n",
    "neutrosophic\n"
   ]
  },
  {
   "cell_type": "code",
   "execution_count": 4,
   "metadata": {},
   "outputs": [
    {
     "output_type": "stream",
     "name": "stdout",
     "text": [
      "cloudlet1     1.839776\ncloudlet2     1.826857\ncloudlet3     1.815865\ncloudlet4     1.848517\ncloudlet5     1.832308\ncloudlet6     1.911691\ncloudlet7     1.816393\ncloudlet8     1.842069\ncloudlet9     1.786846\ncloudlet10    1.826512\ncloudlet11    1.858572\ncloudlet12    1.811123\ncloudlet13    1.807544\ncloudlet14    1.808509\ncloudlet15    1.828950\ncloudlet16    1.948814\ncloudlet17    1.802187\ncloudlet18    1.862366\ncloudlet19    1.798278\ncloudlet20    1.831197\ndtype: float64\n最佳cloudlet为： cloudlet16\n"
     ]
    }
   ],
   "source": [
    "# 得分函数\n",
    "score = neutrosophic[0]+1-neutrosophic[1]+1-neutrosophic[2]\n",
    "print(score)\n",
    "print('最佳cloudlet为：',score.idxmax())\n",
    "\n",
    "with open(\"optimal_cloudlet.txt\",\"w\") as f:\n",
    "        f.write(score.idxmax())  #这句话自带文件关闭功能，不需要再写f.close()\n"
   ]
  }
 ]
}