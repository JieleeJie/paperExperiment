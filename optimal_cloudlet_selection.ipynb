{
 "metadata": {
  "language_info": {
   "codemirror_mode": {
    "name": "ipython",
    "version": 3
   },
   "file_extension": ".py",
   "mimetype": "text/x-python",
   "name": "python",
   "nbconvert_exporter": "python",
   "pygments_lexer": "ipython3",
   "version": "3.9.0"
  },
  "orig_nbformat": 2,
  "kernelspec": {
   "name": "python3",
   "display_name": "Python 3.9.0 64-bit"
  },
  "interpreter": {
   "hash": "e56dfdfdfe0e219775f7d573ae90715c327d44511900fcd145cd2e6f7088a9d6"
  }
 },
 "nbformat": 4,
 "nbformat_minor": 2,
 "cells": [
  {
   "cell_type": "code",
   "execution_count": 1,
   "metadata": {},
   "outputs": [
    {
     "output_type": "execute_result",
     "data": {
      "text/plain": [
       "    sojournTime0  sojournTime1  sojournTime2  sojournTime3  sojournTime4  \\\n",
       "T0      0.832740      0.586957      0.460121      0.000000      0.652570   \n",
       "T1      0.763701      0.000000      0.522002      1.000000      0.646373   \n",
       "T2      1.000000      0.918116      0.825908      0.128447      1.000000   \n",
       "T3      0.459786      0.518116      0.000000      0.245724      0.587678   \n",
       "T4      0.665480      0.802899      0.655941      0.005236      0.127598   \n",
       "T5      0.279715      0.408696      1.000000      0.198953      0.471382   \n",
       "T6      0.565125      0.200725      0.061881      0.446771      0.825738   \n",
       "T7      0.000000      0.444203      0.817932      0.309948      0.114473   \n",
       "T8      0.348754      0.432609      0.244224      0.761257      0.000000   \n",
       "T9      0.772242      1.000000      0.561606      0.919721      0.075100   \n",
       "\n",
       "    sojournTime5  sojournTime6  sojournTime7  sojournTime8  sojournTime9  ...  \\\n",
       "T0      0.323390      0.476558      0.548098      0.684534      1.000000  ...   \n",
       "T1      1.000000      0.989204      0.321402      0.707147      0.679563  ...   \n",
       "T2      0.578470      0.391117      0.439722      0.593802      0.658399  ...   \n",
       "T3      0.767834      0.729180      0.700224      0.000000      0.496693  ...   \n",
       "T4      0.000000      0.000000      0.393985      0.593802      0.853505  ...   \n",
       "T5      0.040208      0.878470      0.000000      0.414015      0.325066  ...   \n",
       "T6      0.377432      1.000000      0.626895      0.649637      0.000000  ...   \n",
       "T7      0.664073      0.121530      1.000000      1.000000      0.884590  ...   \n",
       "T8      0.594466      0.773288      0.559781      0.790899      0.539352  ...   \n",
       "T9      0.894942      0.232572      0.785235      0.536013      0.633929  ...   \n",
       "\n",
       "    memoryUtil10  memoryUtil11  memoryUtil12  memoryUtil13  memoryUtil14  \\\n",
       "T0      0.538462      1.000000      0.137931      0.027778      0.184211   \n",
       "T1      0.666667      0.230769      0.827586      0.861111      0.447368   \n",
       "T2      0.205128      0.333333      0.655172      0.138889      1.000000   \n",
       "T3      0.589744      0.974359      0.379310      0.555556      0.052632   \n",
       "T4      0.128205      0.179487      0.000000      0.138889      0.236842   \n",
       "T5      0.000000      0.820513      0.586207      1.000000      0.631579   \n",
       "T6      0.897436      0.282051      0.068966      0.000000      0.052632   \n",
       "T7      0.564103      0.846154      0.413793      0.000000      0.657895   \n",
       "T8      0.692308      0.025641      0.068966      0.694444      0.000000   \n",
       "T9      1.000000      0.000000      1.000000      0.583333      0.315789   \n",
       "\n",
       "    memoryUtil15  memoryUtil16  memoryUtil17  memoryUtil18  memoryUtil19  \n",
       "T0      0.000000         0.350      0.717949      0.878788      0.631579  \n",
       "T1      0.470588         0.875      1.000000      1.000000      0.000000  \n",
       "T2      0.823529         0.000      0.256410      0.090909      0.078947  \n",
       "T3      0.764706         0.100      0.794872      0.696970      1.000000  \n",
       "T4      0.264706         0.675      0.538462      0.636364      0.947368  \n",
       "T5      0.117647         1.000      0.820513      0.878788      0.552632  \n",
       "T6      0.352941         0.400      0.717949      0.000000      0.500000  \n",
       "T7      1.000000         0.725      0.512821      0.030303      0.184211  \n",
       "T8      0.470588         0.125      0.000000      0.303030      0.710526  \n",
       "T9      0.764706         0.525      0.102564      0.515152      0.236842  \n",
       "\n",
       "[10 rows x 80 columns]"
      ],
      "text/html": "<div>\n<style scoped>\n    .dataframe tbody tr th:only-of-type {\n        vertical-align: middle;\n    }\n\n    .dataframe tbody tr th {\n        vertical-align: top;\n    }\n\n    .dataframe thead th {\n        text-align: right;\n    }\n</style>\n<table border=\"1\" class=\"dataframe\">\n  <thead>\n    <tr style=\"text-align: right;\">\n      <th></th>\n      <th>sojournTime0</th>\n      <th>sojournTime1</th>\n      <th>sojournTime2</th>\n      <th>sojournTime3</th>\n      <th>sojournTime4</th>\n      <th>sojournTime5</th>\n      <th>sojournTime6</th>\n      <th>sojournTime7</th>\n      <th>sojournTime8</th>\n      <th>sojournTime9</th>\n      <th>...</th>\n      <th>memoryUtil10</th>\n      <th>memoryUtil11</th>\n      <th>memoryUtil12</th>\n      <th>memoryUtil13</th>\n      <th>memoryUtil14</th>\n      <th>memoryUtil15</th>\n      <th>memoryUtil16</th>\n      <th>memoryUtil17</th>\n      <th>memoryUtil18</th>\n      <th>memoryUtil19</th>\n    </tr>\n  </thead>\n  <tbody>\n    <tr>\n      <th>T0</th>\n      <td>0.832740</td>\n      <td>0.586957</td>\n      <td>0.460121</td>\n      <td>0.000000</td>\n      <td>0.652570</td>\n      <td>0.323390</td>\n      <td>0.476558</td>\n      <td>0.548098</td>\n      <td>0.684534</td>\n      <td>1.000000</td>\n      <td>...</td>\n      <td>0.538462</td>\n      <td>1.000000</td>\n      <td>0.137931</td>\n      <td>0.027778</td>\n      <td>0.184211</td>\n      <td>0.000000</td>\n      <td>0.350</td>\n      <td>0.717949</td>\n      <td>0.878788</td>\n      <td>0.631579</td>\n    </tr>\n    <tr>\n      <th>T1</th>\n      <td>0.763701</td>\n      <td>0.000000</td>\n      <td>0.522002</td>\n      <td>1.000000</td>\n      <td>0.646373</td>\n      <td>1.000000</td>\n      <td>0.989204</td>\n      <td>0.321402</td>\n      <td>0.707147</td>\n      <td>0.679563</td>\n      <td>...</td>\n      <td>0.666667</td>\n      <td>0.230769</td>\n      <td>0.827586</td>\n      <td>0.861111</td>\n      <td>0.447368</td>\n      <td>0.470588</td>\n      <td>0.875</td>\n      <td>1.000000</td>\n      <td>1.000000</td>\n      <td>0.000000</td>\n    </tr>\n    <tr>\n      <th>T2</th>\n      <td>1.000000</td>\n      <td>0.918116</td>\n      <td>0.825908</td>\n      <td>0.128447</td>\n      <td>1.000000</td>\n      <td>0.578470</td>\n      <td>0.391117</td>\n      <td>0.439722</td>\n      <td>0.593802</td>\n      <td>0.658399</td>\n      <td>...</td>\n      <td>0.205128</td>\n      <td>0.333333</td>\n      <td>0.655172</td>\n      <td>0.138889</td>\n      <td>1.000000</td>\n      <td>0.823529</td>\n      <td>0.000</td>\n      <td>0.256410</td>\n      <td>0.090909</td>\n      <td>0.078947</td>\n    </tr>\n    <tr>\n      <th>T3</th>\n      <td>0.459786</td>\n      <td>0.518116</td>\n      <td>0.000000</td>\n      <td>0.245724</td>\n      <td>0.587678</td>\n      <td>0.767834</td>\n      <td>0.729180</td>\n      <td>0.700224</td>\n      <td>0.000000</td>\n      <td>0.496693</td>\n      <td>...</td>\n      <td>0.589744</td>\n      <td>0.974359</td>\n      <td>0.379310</td>\n      <td>0.555556</td>\n      <td>0.052632</td>\n      <td>0.764706</td>\n      <td>0.100</td>\n      <td>0.794872</td>\n      <td>0.696970</td>\n      <td>1.000000</td>\n    </tr>\n    <tr>\n      <th>T4</th>\n      <td>0.665480</td>\n      <td>0.802899</td>\n      <td>0.655941</td>\n      <td>0.005236</td>\n      <td>0.127598</td>\n      <td>0.000000</td>\n      <td>0.000000</td>\n      <td>0.393985</td>\n      <td>0.593802</td>\n      <td>0.853505</td>\n      <td>...</td>\n      <td>0.128205</td>\n      <td>0.179487</td>\n      <td>0.000000</td>\n      <td>0.138889</td>\n      <td>0.236842</td>\n      <td>0.264706</td>\n      <td>0.675</td>\n      <td>0.538462</td>\n      <td>0.636364</td>\n      <td>0.947368</td>\n    </tr>\n    <tr>\n      <th>T5</th>\n      <td>0.279715</td>\n      <td>0.408696</td>\n      <td>1.000000</td>\n      <td>0.198953</td>\n      <td>0.471382</td>\n      <td>0.040208</td>\n      <td>0.878470</td>\n      <td>0.000000</td>\n      <td>0.414015</td>\n      <td>0.325066</td>\n      <td>...</td>\n      <td>0.000000</td>\n      <td>0.820513</td>\n      <td>0.586207</td>\n      <td>1.000000</td>\n      <td>0.631579</td>\n      <td>0.117647</td>\n      <td>1.000</td>\n      <td>0.820513</td>\n      <td>0.878788</td>\n      <td>0.552632</td>\n    </tr>\n    <tr>\n      <th>T6</th>\n      <td>0.565125</td>\n      <td>0.200725</td>\n      <td>0.061881</td>\n      <td>0.446771</td>\n      <td>0.825738</td>\n      <td>0.377432</td>\n      <td>1.000000</td>\n      <td>0.626895</td>\n      <td>0.649637</td>\n      <td>0.000000</td>\n      <td>...</td>\n      <td>0.897436</td>\n      <td>0.282051</td>\n      <td>0.068966</td>\n      <td>0.000000</td>\n      <td>0.052632</td>\n      <td>0.352941</td>\n      <td>0.400</td>\n      <td>0.717949</td>\n      <td>0.000000</td>\n      <td>0.500000</td>\n    </tr>\n    <tr>\n      <th>T7</th>\n      <td>0.000000</td>\n      <td>0.444203</td>\n      <td>0.817932</td>\n      <td>0.309948</td>\n      <td>0.114473</td>\n      <td>0.664073</td>\n      <td>0.121530</td>\n      <td>1.000000</td>\n      <td>1.000000</td>\n      <td>0.884590</td>\n      <td>...</td>\n      <td>0.564103</td>\n      <td>0.846154</td>\n      <td>0.413793</td>\n      <td>0.000000</td>\n      <td>0.657895</td>\n      <td>1.000000</td>\n      <td>0.725</td>\n      <td>0.512821</td>\n      <td>0.030303</td>\n      <td>0.184211</td>\n    </tr>\n    <tr>\n      <th>T8</th>\n      <td>0.348754</td>\n      <td>0.432609</td>\n      <td>0.244224</td>\n      <td>0.761257</td>\n      <td>0.000000</td>\n      <td>0.594466</td>\n      <td>0.773288</td>\n      <td>0.559781</td>\n      <td>0.790899</td>\n      <td>0.539352</td>\n      <td>...</td>\n      <td>0.692308</td>\n      <td>0.025641</td>\n      <td>0.068966</td>\n      <td>0.694444</td>\n      <td>0.000000</td>\n      <td>0.470588</td>\n      <td>0.125</td>\n      <td>0.000000</td>\n      <td>0.303030</td>\n      <td>0.710526</td>\n    </tr>\n    <tr>\n      <th>T9</th>\n      <td>0.772242</td>\n      <td>1.000000</td>\n      <td>0.561606</td>\n      <td>0.919721</td>\n      <td>0.075100</td>\n      <td>0.894942</td>\n      <td>0.232572</td>\n      <td>0.785235</td>\n      <td>0.536013</td>\n      <td>0.633929</td>\n      <td>...</td>\n      <td>1.000000</td>\n      <td>0.000000</td>\n      <td>1.000000</td>\n      <td>0.583333</td>\n      <td>0.315789</td>\n      <td>0.764706</td>\n      <td>0.525</td>\n      <td>0.102564</td>\n      <td>0.515152</td>\n      <td>0.236842</td>\n    </tr>\n  </tbody>\n</table>\n<p>10 rows × 80 columns</p>\n</div>"
     },
     "metadata": {},
     "execution_count": 1
    }
   ],
   "source": [
    "import pandas as pd\n",
    "import numpy as np\n",
    "\n",
    "#读取文件\n",
    "sojournTime_raw = pd.read_csv('sojournTime.csv',index_col=0)\n",
    "comDelay_raw    = pd.read_csv('comDelay.csv',index_col=0)\n",
    "load_raw     = pd.read_csv('load.csv',index_col=0)\n",
    "memoryUtil_raw  = pd.read_csv('memoryUtil.csv',index_col=0)\n",
    "\n",
    "# 得到cloudlet数量\n",
    "cloudlet_numbers = sojournTime_raw.shape[1]\n",
    "\n",
    "# 对comDelay和load进行同向化\n",
    "comDelay_txh = comDelay_raw.apply(lambda x: (np.max(x) - x)) \n",
    "load_txh = load_raw.apply(lambda x: (np.max(x) - x)) \n",
    "\n",
    "# 合并成一个DataFrame\n",
    "data = pd.concat([sojournTime_raw,comDelay_txh,load_txh,memoryUtil_raw],axis=1)\n",
    "\n",
    "# 对所有数据进行归一化\n",
    "data_nor = data.apply(lambda x: (x - np.min(x)) / (np.max(x) - np.min(x)))\n",
    "data_nor\n"
   ]
  },
  {
   "cell_type": "code",
   "execution_count": 2,
   "metadata": {},
   "outputs": [
    {
     "output_type": "execute_result",
     "data": {
      "text/plain": [
       "                     0         1         2\n",
       "sojournTime0  0.568754  0.298387  0.482999\n",
       "sojournTime1  0.531232  0.296545  0.430711\n",
       "sojournTime2  0.514961  0.324262  0.393567\n",
       "sojournTime3  0.401606  0.381340  0.158778\n",
       "sojournTime4  0.450091  0.371781  0.283035\n",
       "...                ...       ...       ...\n",
       "memoryUtil15  0.502941  0.336183  0.381067\n",
       "memoryUtil16  0.477500  0.354061  0.333582\n",
       "memoryUtil17  0.546154  0.331003  0.434900\n",
       "memoryUtil18  0.503030  0.398022  0.334348\n",
       "memoryUtil19  0.484211  0.360163  0.333638\n",
       "\n",
       "[80 rows x 3 columns]"
      ],
      "text/html": "<div>\n<style scoped>\n    .dataframe tbody tr th:only-of-type {\n        vertical-align: middle;\n    }\n\n    .dataframe tbody tr th {\n        vertical-align: top;\n    }\n\n    .dataframe thead th {\n        text-align: right;\n    }\n</style>\n<table border=\"1\" class=\"dataframe\">\n  <thead>\n    <tr style=\"text-align: right;\">\n      <th></th>\n      <th>0</th>\n      <th>1</th>\n      <th>2</th>\n    </tr>\n  </thead>\n  <tbody>\n    <tr>\n      <th>sojournTime0</th>\n      <td>0.568754</td>\n      <td>0.298387</td>\n      <td>0.482999</td>\n    </tr>\n    <tr>\n      <th>sojournTime1</th>\n      <td>0.531232</td>\n      <td>0.296545</td>\n      <td>0.430711</td>\n    </tr>\n    <tr>\n      <th>sojournTime2</th>\n      <td>0.514961</td>\n      <td>0.324262</td>\n      <td>0.393567</td>\n    </tr>\n    <tr>\n      <th>sojournTime3</th>\n      <td>0.401606</td>\n      <td>0.381340</td>\n      <td>0.158778</td>\n    </tr>\n    <tr>\n      <th>sojournTime4</th>\n      <td>0.450091</td>\n      <td>0.371781</td>\n      <td>0.283035</td>\n    </tr>\n    <tr>\n      <th>...</th>\n      <td>...</td>\n      <td>...</td>\n      <td>...</td>\n    </tr>\n    <tr>\n      <th>memoryUtil15</th>\n      <td>0.502941</td>\n      <td>0.336183</td>\n      <td>0.381067</td>\n    </tr>\n    <tr>\n      <th>memoryUtil16</th>\n      <td>0.477500</td>\n      <td>0.354061</td>\n      <td>0.333582</td>\n    </tr>\n    <tr>\n      <th>memoryUtil17</th>\n      <td>0.546154</td>\n      <td>0.331003</td>\n      <td>0.434900</td>\n    </tr>\n    <tr>\n      <th>memoryUtil18</th>\n      <td>0.503030</td>\n      <td>0.398022</td>\n      <td>0.334348</td>\n    </tr>\n    <tr>\n      <th>memoryUtil19</th>\n      <td>0.484211</td>\n      <td>0.360163</td>\n      <td>0.333638</td>\n    </tr>\n  </tbody>\n</table>\n<p>80 rows × 3 columns</p>\n</div>"
     },
     "metadata": {},
     "execution_count": 2
    }
   ],
   "source": [
    "# 云模型处理\n",
    "def cloud_model(df):\n",
    "    Ex = df.mean()\n",
    "    En = np.sqrt(np.pi/2)  * np.mean( np.abs(df-Ex) )\n",
    "    He = np.sqrt(np.abs(df.mean() * df.mean() - df.std() * df.std()))\n",
    "    return pd.concat([Ex,En,He],axis=1)\n",
    "data_cloudModel = cloud_model(data_nor)\n",
    "data_cloudModel"
   ]
  },
  {
   "cell_type": "code",
   "execution_count": 3,
   "metadata": {},
   "outputs": [
    {
     "output_type": "execute_result",
     "data": {
      "text/plain": [
       "           0         1         2\n",
       "0   0.489918  0.322589  0.354315\n",
       "1   0.494205  0.298039  0.369461\n",
       "2   0.480779  0.331620  0.347775\n",
       "3   0.427880  0.404910  0.178849\n",
       "4   0.511389  0.351348  0.366663\n",
       "5   0.511480  0.330457  0.299266\n",
       "6   0.534875  0.365962  0.371618\n",
       "7   0.469619  0.308636  0.314352\n",
       "8   0.528015  0.301241  0.399701\n",
       "9   0.486229  0.345530  0.300278\n",
       "10  0.474395  0.313458  0.343874\n",
       "11  0.514523  0.298769  0.386107\n",
       "12  0.543280  0.322932  0.392888\n",
       "13  0.459890  0.360457  0.232214\n",
       "14  0.526197  0.336404  0.398690\n",
       "15  0.512873  0.324260  0.302287\n",
       "16  0.559604  0.330880  0.401558\n",
       "17  0.491867  0.329564  0.324059\n",
       "18  0.502269  0.336530  0.368203\n",
       "19  0.408210  0.370797  0.238489"
      ],
      "text/html": "<div>\n<style scoped>\n    .dataframe tbody tr th:only-of-type {\n        vertical-align: middle;\n    }\n\n    .dataframe tbody tr th {\n        vertical-align: top;\n    }\n\n    .dataframe thead th {\n        text-align: right;\n    }\n</style>\n<table border=\"1\" class=\"dataframe\">\n  <thead>\n    <tr style=\"text-align: right;\">\n      <th></th>\n      <th>0</th>\n      <th>1</th>\n      <th>2</th>\n    </tr>\n  </thead>\n  <tbody>\n    <tr>\n      <th>0</th>\n      <td>0.489918</td>\n      <td>0.322589</td>\n      <td>0.354315</td>\n    </tr>\n    <tr>\n      <th>1</th>\n      <td>0.494205</td>\n      <td>0.298039</td>\n      <td>0.369461</td>\n    </tr>\n    <tr>\n      <th>2</th>\n      <td>0.480779</td>\n      <td>0.331620</td>\n      <td>0.347775</td>\n    </tr>\n    <tr>\n      <th>3</th>\n      <td>0.427880</td>\n      <td>0.404910</td>\n      <td>0.178849</td>\n    </tr>\n    <tr>\n      <th>4</th>\n      <td>0.511389</td>\n      <td>0.351348</td>\n      <td>0.366663</td>\n    </tr>\n    <tr>\n      <th>5</th>\n      <td>0.511480</td>\n      <td>0.330457</td>\n      <td>0.299266</td>\n    </tr>\n    <tr>\n      <th>6</th>\n      <td>0.534875</td>\n      <td>0.365962</td>\n      <td>0.371618</td>\n    </tr>\n    <tr>\n      <th>7</th>\n      <td>0.469619</td>\n      <td>0.308636</td>\n      <td>0.314352</td>\n    </tr>\n    <tr>\n      <th>8</th>\n      <td>0.528015</td>\n      <td>0.301241</td>\n      <td>0.399701</td>\n    </tr>\n    <tr>\n      <th>9</th>\n      <td>0.486229</td>\n      <td>0.345530</td>\n      <td>0.300278</td>\n    </tr>\n    <tr>\n      <th>10</th>\n      <td>0.474395</td>\n      <td>0.313458</td>\n      <td>0.343874</td>\n    </tr>\n    <tr>\n      <th>11</th>\n      <td>0.514523</td>\n      <td>0.298769</td>\n      <td>0.386107</td>\n    </tr>\n    <tr>\n      <th>12</th>\n      <td>0.543280</td>\n      <td>0.322932</td>\n      <td>0.392888</td>\n    </tr>\n    <tr>\n      <th>13</th>\n      <td>0.459890</td>\n      <td>0.360457</td>\n      <td>0.232214</td>\n    </tr>\n    <tr>\n      <th>14</th>\n      <td>0.526197</td>\n      <td>0.336404</td>\n      <td>0.398690</td>\n    </tr>\n    <tr>\n      <th>15</th>\n      <td>0.512873</td>\n      <td>0.324260</td>\n      <td>0.302287</td>\n    </tr>\n    <tr>\n      <th>16</th>\n      <td>0.559604</td>\n      <td>0.330880</td>\n      <td>0.401558</td>\n    </tr>\n    <tr>\n      <th>17</th>\n      <td>0.491867</td>\n      <td>0.329564</td>\n      <td>0.324059</td>\n    </tr>\n    <tr>\n      <th>18</th>\n      <td>0.502269</td>\n      <td>0.336530</td>\n      <td>0.368203</td>\n    </tr>\n    <tr>\n      <th>19</th>\n      <td>0.408210</td>\n      <td>0.370797</td>\n      <td>0.238489</td>\n    </tr>\n  </tbody>\n</table>\n</div>"
     },
     "metadata": {},
     "execution_count": 3
    }
   ],
   "source": [
    "# 中智聚合\n",
    "\n",
    "# 中智数\n",
    "truth = data_cloudModel[0]\n",
    "indeterminacy = data_cloudModel[1]\n",
    "falsity = data_cloudModel[2]\n",
    "\n",
    "# 权重\n",
    "weight = [0.25,0.25,0.25,0.25]\n",
    "\n",
    "# 聚合之后的中智数\n",
    "aggre_truth = []\n",
    "aggre_indeterminacy = []\n",
    "aggre_falsity = []\n",
    "\n",
    "for i in range(cloudlet_numbers):\n",
    "    tempT = 1\n",
    "    tempI = 1\n",
    "    tempF = 1\n",
    "    # 四个属性\n",
    "    for j in range(4):\n",
    "        tempT *= (1 - truth[i+10*j]) ** weight[j]\n",
    "        tempI *= indeterminacy[i+10*j] ** weight[j]\n",
    "        tempF *= falsity[i+10*j] ** weight[j]\n",
    "    aggre_truth.append((1-tempT))\n",
    "    aggre_indeterminacy.append(tempI)\n",
    "    aggre_falsity.append(tempF)\n",
    "\n",
    "# 添加索引\n",
    "# index = pd.Series(np.arange(0,cloudlet_numbers))\n",
    "# index = index.astype(str)\n",
    "# index = 'cloudlet'+index\n",
    "neutrosophic = pd.DataFrame(np.vstack((aggre_truth,aggre_indeterminacy,aggre_falsity)).T)\n",
    "neutrosophic\n"
   ]
  },
  {
   "cell_type": "code",
   "execution_count": 4,
   "metadata": {},
   "outputs": [
    {
     "output_type": "stream",
     "name": "stdout",
     "text": [
      "0     1.813014\n1     1.826705\n2     1.801383\n3     1.844120\n4     1.793377\n5     1.881758\n6     1.797295\n7     1.846631\n8     1.827072\n9     1.840421\n10    1.817063\n11    1.829646\n12    1.827459\n13    1.867218\n14    1.791103\n15    1.886327\n16    1.827165\n17    1.838243\n18    1.797536\n19    1.798924\ndtype: float64\n最佳cloudlet为： 15\n"
     ]
    }
   ],
   "source": [
    "# 得分函数\n",
    "score = neutrosophic[0]+1-neutrosophic[1]+1-neutrosophic[2]\n",
    "print(score)\n",
    "print('最佳cloudlet为：',score.idxmax())\n",
    "\n",
    "with open(\"optimal_cloudlet.txt\",\"w\") as f:\n",
    "        f.write(str(score.idxmin()))  #这句话自带文件关闭功能，不需要再写f.close()\n"
   ]
  }
 ]
}