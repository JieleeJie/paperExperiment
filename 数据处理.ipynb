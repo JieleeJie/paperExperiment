{
 "cells": [
  {
   "cell_type": "code",
   "execution_count": null,
   "metadata": {},
   "outputs": [],
   "source": [
    "import pandas as pd\n",
    "import numpy as np\n",
    "\n",
    "#读取文件\n",
    "mobility = pd.read_csv('sojournTime.csv',index_col=0)\n",
    "mobility"
   ]
  },
  {
   "cell_type": "code",
   "execution_count": null,
   "metadata": {},
   "outputs": [],
   "source": [
    "mobility.mean()"
   ]
  },
  {
   "cell_type": "code",
   "execution_count": null,
   "metadata": {},
   "outputs": [],
   "source": [
    "mobility.std()"
   ]
  },
  {
   "cell_type": "code",
   "execution_count": null,
   "metadata": {},
   "outputs": [],
   "source": [
    "# 极小型指标同向化\n",
    "neMob = mobility.apply(lambda x: (np.max(x) - x)) \n",
    "# neMob\n",
    "# 标准化 将数据变换为均值为0，标准差为1的分布\n",
    "# standMob = (mobility-mobility.mean())/mobility.std()\n",
    "\n",
    "#归一化：一列数据变化到某个固定区间(范围)中，通常，这个区间是[0, 1]\n",
    "# norMob = mobility.apply(lambda x: (x - np.min(x)) / (np.max(x) - np.min(x))) \n",
    "# 同向化后再归一化\n",
    "norMob = neMob.apply(lambda x: (x - np.min(x)) / (np.max(x) - np.min(x))) \n",
    "norMob"
   ]
  },
  {
   "cell_type": "code",
   "execution_count": null,
   "metadata": {},
   "outputs": [],
   "source": [
    "# 期望 Ex\n",
    "# np.mean(norMob)\n",
    "Ex = norMob.mean()"
   ]
  },
  {
   "cell_type": "code",
   "execution_count": null,
   "metadata": {},
   "outputs": [],
   "source": [
    "norMob.mean() * norMob.mean()"
   ]
  },
  {
   "cell_type": "code",
   "execution_count": null,
   "metadata": {},
   "outputs": [],
   "source": [
    "norMob.std()\n",
    "# np.std(norMob)"
   ]
  },
  {
   "cell_type": "code",
   "execution_count": null,
   "metadata": {},
   "outputs": [],
   "source": [
    "# 超熵\n",
    "# norMob.mean() * norMob.mean() - norMob.std() * norMob.std()\n",
    "He = np.sqrt(norMob.mean() * norMob.mean() - norMob.std() * norMob.std())\n",
    "He"
   ]
  },
  {
   "cell_type": "code",
   "execution_count": null,
   "metadata": {},
   "outputs": [],
   "source": [
    "# 熵\n",
    "# norMob - Ex\n",
    "# np.abs(norMob-Ex)\n",
    "# np.mean( np.abs(norMob-Ex) )\n",
    "# np.sqrt(np.pi/2)\n",
    "En = np.sqrt(np.pi/2)  * np.mean( np.abs(norMob-Ex) )"
   ]
  },
  {
   "cell_type": "code",
   "execution_count": null,
   "metadata": {},
   "outputs": [],
   "source": [
    "def cloud_model(df):\n",
    "    Ex = norMob.mean()\n",
    "    En = np.sqrt(np.pi/2)  * np.mean( np.abs(df-Ex) )\n",
    "    He = np.sqrt(df.mean() * df.mean() - df.std() * df.std())\n",
    "    # print(df.columns)\n",
    "    # print(Ex.index)\n",
    "    # print(Ex)\n",
    "    # print(En)\n",
    "    # print(He)\n",
    "    return pd.concat([Ex,En,He],axis=1)\n",
    "print(cloud_model(norMob))\n"
   ]
  },
  {
   "cell_type": "code",
   "execution_count": null,
   "metadata": {},
   "outputs": [],
   "source": [
    "mob_cloudModel = cloud_model(norMob)\n",
    "mob_cloudModel.columns = ['T','I','F']\n",
    "mob_cloudModel"
   ]
  },
  {
   "cell_type": "code",
   "execution_count": null,
   "metadata": {},
   "outputs": [],
   "source": [
    "# 转为二维数组\n",
    "np.array(mob_cloudModel)"
   ]
  },
  {
   "cell_type": "code",
   "execution_count": null,
   "metadata": {},
   "outputs": [],
   "source": [
    "# orient : str {‘dict’, ‘list’, ‘series’, ‘split’, ‘records’, ‘index’}\n",
    "# mob_neutro = mob_cloudModel.to_dict(orient='index')\n",
    "# mob_neutro = mob_cloudModel.to_dict(orient='records')\n",
    "mob_cloudModel.to_records()\n",
    "mob_neutro"
   ]
  },
  {
   "cell_type": "code",
   "execution_count": null,
   "metadata": {},
   "outputs": [],
   "source": [
    "# pd.DataFrame.from_dict(mob_neutro,orient='index')\n",
    "pd.DataFrame.from_records([mob_neutro]).T"
   ]
  }
 ],
 "metadata": {
  "interpreter": {
   "hash": "e56dfdfdfe0e219775f7d573ae90715c327d44511900fcd145cd2e6f7088a9d6"
  },
  "kernelspec": {
   "display_name": "Python 3.9.0 64-bit",
   "language": "python",
   "name": "python3"
  },
  "language_info": {
   "codemirror_mode": {
    "name": "ipython",
    "version": 3
   },
   "file_extension": ".py",
   "mimetype": "text/x-python",
   "name": "python",
   "nbconvert_exporter": "python",
   "pygments_lexer": "ipython3",
   "version": "3.9.0"
  },
  "orig_nbformat": 2
 },
 "nbformat": 4,
 "nbformat_minor": 2
}
