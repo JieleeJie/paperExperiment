{
 "metadata": {
  "language_info": {
   "codemirror_mode": {
    "name": "ipython",
    "version": 3
   },
   "file_extension": ".py",
   "mimetype": "text/x-python",
   "name": "python",
   "nbconvert_exporter": "python",
   "pygments_lexer": "ipython3",
   "version": "3.9.0"
  },
  "orig_nbformat": 4,
  "kernelspec": {
   "name": "python3",
   "display_name": "Python 3.9.0 64-bit"
  },
  "interpreter": {
   "hash": "e56dfdfdfe0e219775f7d573ae90715c327d44511900fcd145cd2e6f7088a9d6"
  }
 },
 "nbformat": 4,
 "nbformat_minor": 2,
 "cells": [
  {
   "cell_type": "code",
   "execution_count": 207,
   "metadata": {},
   "outputs": [],
   "source": [
    "import numpy as np\n",
    "\n",
    "# 任务数量\n",
    "task_number = 90\n",
    "# cloudlet数量\n",
    "cloudlet_number = 20\n",
    "\n",
    "# 任务大小 服从 均值=4600M条指令 的 均匀分布\n",
    "task_size = np.random.uniform(500,8700,task_number).round()\n",
    "# 移动设备处理能力(MIPS)\n",
    "speed_moblieDevice = 600\n",
    "# cloudlet处理能力(MIPS)\n",
    "speed_cloudlet = 3846\n",
    "# clooud处理能力(MIPS)\n",
    "speed_cloud = 31790\n",
    "\n",
    "# 任务所需传输数据量 服从 均值=750KB 的 均匀分布 假设下行的时间为上行的 0.6 倍\n",
    "task_upload = np.random.uniform(200,1300,task_number).round()\n",
    "# 边缘传输速率：带宽设为100mbps 理论传输率最大 12.8MB/s  实际传输吞吐量 4-11MB/S\n",
    "trans_rate_clt = np.random.uniform(4,11,task_number).round(2)\n",
    "# 云传输速率：带宽设为1Gbps 理论传输率最大 128MB/s  实际传输吞吐量 40-110MB/S\n",
    "trans_rate_c = np.random.uniform(40,110,task_number).round(2)\n",
    "\n",
    "power_idle = 5\n",
    "power_communication = 20\n",
    "power_excute = 60\n",
    "# 总的时间 和 能耗\n",
    "Tm = Tclt = Tc = 0\n",
    "Em = Eclt = Ec = 0\n",
    "\n",
    "# 失败任务的个数\n",
    "failureCount = 0"
   ]
  },
  {
   "cell_type": "code",
   "execution_count": 208,
   "metadata": {},
   "outputs": [
    {
     "output_type": "stream",
     "name": "stdout",
     "text": [
      "执行这些任务的时间约为： 223.77\n执行这些任务的能耗约为： 1651.12\n任务失败个数为： 1\n"
     ]
    }
   ],
   "source": [
    "for i in range(task_number):\n",
    "\n",
    "    # if i <= task_number * 0.05:\n",
    "    #     # print('在本地执行')\n",
    "    #     temp = task_size[i] / speed_moblieDevice\n",
    "    #     if temp > 5:\n",
    "    #         failureCount += 1\n",
    "    #     Tm = Tm + temp\n",
    "    #     Em = Em + power_excute * temp\n",
    "    # elif task_number * 0.05 < i <= task_number * 0.35:\n",
    "    if i <= task_number * 0.35:\n",
    "        # 在cloudlet1上 通信时间比较久\n",
    "        # print('cloudlet0')\n",
    "        cloudlet0_upload = (task_upload[i] / 1024) / trans_rate_clt[i]\n",
    "        cloudlet0_propagation = np.random.randint(5,50) / 3e8\n",
    "        cloudlet0_queue = np.random.uniform(0,1.5)\n",
    "        cloudlet0_excute = task_size[i] / speed_cloudlet\n",
    "        cloudlet0_oneTaskTime = 8*cloudlet0_upload + cloudlet0_propagation + cloudlet0_queue + cloudlet0_excute \n",
    "        if cloudlet0_oneTaskTime > 5:\n",
    "            failureCount += 1\n",
    "        Tclt += cloudlet0_oneTaskTime\n",
    "        Eclt = Eclt +  power_communication * cloudlet0_upload * 8 + power_idle * (cloudlet0_propagation + cloudlet0_queue + cloudlet0_excute)\n",
    "    elif  task_number * 0.35 < i <= task_number * 0.65:\n",
    "        # 传播到cloudlet2的时间比较久 且执行慢\n",
    "        # print('cloudlet1')\n",
    "        cloudlet1_upload = (task_upload[i] / 1024) / trans_rate_clt[i]\n",
    "        cloudlet1_propagation = np.random.randint(5,50) / 3e8\n",
    "        cloudlet1_queue = np.random.uniform(0,1.5)\n",
    "        cloudlet1_excute = task_size[i] / (speed_cloudlet * 0.8)\n",
    "        cloudlet1_oneTaskTime = cloudlet1_upload + 40*cloudlet1_propagation + cloudlet1_queue + cloudlet1_excute \n",
    "        if cloudlet1_oneTaskTime > 5:\n",
    "            failureCount += 1\n",
    "        Tclt += cloudlet1_oneTaskTime\n",
    "        Eclt = Eclt +  power_communication * cloudlet1_upload * 1.6 + power_idle * (40*cloudlet1_propagation + cloudlet1_queue + cloudlet1_excute)\n",
    "    elif task_number * 0.65 < i < task_number * 0.95:\n",
    "        # print('cloudlet2')\n",
    "        # 在cloudlet2的排队时间比较久\n",
    "        cloudlet2_upload = (task_upload[i] / 1024) / trans_rate_clt[i]\n",
    "        cloudlet2_propagation = np.random.randint(5,50) / 3e8\n",
    "        cloudlet2_queue = np.random.uniform(1,2)\n",
    "        cloudlet2_excute = task_size[i] / speed_cloudlet\n",
    "        cloudlet2_oneTaskTime = cloudlet2_upload + cloudlet2_propagation + cloudlet2_queue + cloudlet2_excute \n",
    "        if cloudlet2_oneTaskTime > 5:\n",
    "            failureCount += 1\n",
    "        Tclt += cloudlet2_oneTaskTime\n",
    "        Eclt = Eclt +  power_communication * cloudlet2_upload * 1.6 + power_idle * (cloudlet2_propagation + cloudlet2_queue + cloudlet2_excute)\n",
    "    else:\n",
    "        # print('cloud')\n",
    "        Tc_upload = (task_upload[i] / 1024) / trans_rate_c[i]\n",
    "        Tc_propagation = np.random.randint(10000,500000) / 3e8\n",
    "        Tc_excute = task_size[i] / speed_cloud\n",
    "        if Tc_upload * 1.6 + Tc_propagation  + Tc_excute > 5:\n",
    "            failureCount += 1\n",
    "        Tc = Tc +  Tc_upload * 1.6 + Tc_propagation  + Tc_excute\n",
    "        Ec = Ec + power_communication * Tc_upload * 1.6 + power_idle * (Tc_propagation + Tc_excute)\n",
    "        \n",
    "print(\"执行这些任务的时间约为：\",round(Tm + Tclt + Tc,2))\n",
    "print(\"执行这些任务的能耗约为：\", round(Em + Eclt + Ec,2))\n",
    "print(\"任务失败个数为：\",failureCount)"
   ]
  }
 ]
}