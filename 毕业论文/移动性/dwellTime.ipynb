{
 "cells": [
  {
   "cell_type": "code",
   "execution_count": 16,
   "metadata": {},
   "outputs": [
    {
     "name": "stdout",
     "output_type": "stream",
     "text": [
      "35\n",
      "用户在cloudlet范围内的预计停留时间为：17s\n"
     ]
    }
   ],
   "source": [
    "import random\n",
    "import math\n",
    "from geopy.distance import geodesic  #用geodesic函数测算坐标距离\n",
    "\n",
    "# cloudlet服务范围  m\n",
    "R = 50\n",
    "# 计算cloudlet和移动用户的距离\n",
    "D = round(geodesic((-37.82091,144.955155),(-37.82086813,144.9555503)).m)\n",
    "# 用户的移动速度 1m/s\n",
    "V = 1\n",
    "# 用户的移动方向\n",
    "θ = random.uniform(0,math.pi)\n",
    "# 用户按移动方向 走出 cloudlet范围 的距离\n",
    "S = D * math.cos(θ) + math.sqrt(math.pow(R,2)- math.pow(D,2) * math.pow(math.sin(θ),2))\n",
    "# 预计停留时间\n",
    "dwellTime = S / V\n",
    "print('用户在cloudlet范围内的预计停留时间为：{}s'.format(round(dwellTime)))"
   ]
  }
 ],
 "metadata": {
  "interpreter": {
   "hash": "e56dfdfdfe0e219775f7d573ae90715c327d44511900fcd145cd2e6f7088a9d6"
  },
  "kernelspec": {
   "display_name": "Python 3.9.0 64-bit",
   "language": "python",
   "name": "python3"
  },
  "language_info": {
   "codemirror_mode": {
    "name": "ipython",
    "version": 3
   },
   "file_extension": ".py",
   "mimetype": "text/x-python",
   "name": "python",
   "nbconvert_exporter": "python",
   "pygments_lexer": "ipython3",
   "version": "3.9.0"
  },
  "orig_nbformat": 4
 },
 "nbformat": 4,
 "nbformat_minor": 2
}
