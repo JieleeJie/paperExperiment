{
 "cells": [
  {
   "cell_type": "markdown",
   "metadata": {},
   "source": [
    "##### 预计停留时间"
   ]
  },
  {
   "cell_type": "code",
   "execution_count": 26,
   "metadata": {},
   "outputs": [
    {
     "name": "stdout",
     "output_type": "stream",
     "text": [
      "用户在cloudlet范围内的预计停留时间为：25s\n"
     ]
    }
   ],
   "source": [
    "import random\n",
    "import math\n",
    "from geopy.distance import geodesic  #用geodesic函数测算坐标距离\n",
    "\n",
    "# cloudlet服务范围  m\n",
    "R = 50\n",
    "# 计算cloudlet和移动用户的距离\n",
    "D = round(geodesic((-37.82091,144.955155),(-37.82086813,144.9555503)).m)\n",
    "# 用户的移动速度 1m/s\n",
    "V = 1\n",
    "# 用户的移动方向\n",
    "θ = random.uniform(0,math.pi)\n",
    "# 用户按移动方向 走出 cloudlet范围 的距离\n",
    "S = D * math.cos(θ) + math.sqrt(math.pow(R,2)- math.pow(D,2) * math.pow(math.sin(θ),2))\n",
    "# 预计停留时间\n",
    "dwellTime = S / V\n",
    "print('用户在cloudlet范围内的预计停留时间为：{}s'.format(round(dwellTime)))\n"
   ]
  },
  {
   "cell_type": "markdown",
   "metadata": {},
   "source": [
    "##### 综合度量"
   ]
  },
  {
   "cell_type": "code",
   "execution_count": 39,
   "metadata": {},
   "outputs": [
    {
     "name": "stdout",
     "output_type": "stream",
     "text": [
      "停留时间的概率： 0.010509337933557255\n",
      "信号强度为：-71.19099630451822dBm\n",
      "回传时间为：1.1666666666666667e-07s\n",
      "移动性的综合度量值为：0.010509337933557255α + 71.19099630451822β + 1.1666666666666667e-07γ\n"
     ]
    }
   ],
   "source": [
    "# 停留时间的概率\n",
    "τ = abs(random.gauss(10,4))\n",
    "Pt = (1 / τ) * math.exp(-dwellTime / τ)\n",
    "print('停留时间的概率：',Pt)\n",
    "\n",
    "# 信号强度\n",
    "K = 25\n",
    "Pr1 = -55\n",
    "Pr = Pr1 - K * math.log(10,D)\n",
    "print('信号强度为：{}dBm'.format(Pr))\n",
    "\n",
    "# 回传时间\n",
    "propTime = D / 3e8\n",
    "print('回传时间为：{}s'.format(propTime))\n",
    "\n",
    "# 综合度量\n",
    "print('移动性的综合度量值为：{}α + {}β + {}γ'.format(Pt,abs(Pr),propTime))"
   ]
  }
 ],
 "metadata": {
  "interpreter": {
   "hash": "e56dfdfdfe0e219775f7d573ae90715c327d44511900fcd145cd2e6f7088a9d6"
  },
  "kernelspec": {
   "display_name": "Python 3.9.0 64-bit",
   "language": "python",
   "name": "python3"
  },
  "language_info": {
   "codemirror_mode": {
    "name": "ipython",
    "version": 3
   },
   "file_extension": ".py",
   "mimetype": "text/x-python",
   "name": "python",
   "nbconvert_exporter": "python",
   "pygments_lexer": "ipython3",
   "version": "3.9.0"
  },
  "orig_nbformat": 4
 },
 "nbformat": 4,
 "nbformat_minor": 2
}
