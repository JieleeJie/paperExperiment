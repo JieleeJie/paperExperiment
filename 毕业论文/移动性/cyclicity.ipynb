{
 "cells": [
  {
   "cell_type": "markdown",
   "metadata": {},
   "source": [
    "##### 求 尾部匹配子序列集TMSs 目标cloudlets集PTCs"
   ]
  },
  {
   "cell_type": "code",
   "execution_count": 6,
   "metadata": {},
   "outputs": [
    {
     "name": "stdout",
     "output_type": "stream",
     "text": [
      "[['A', 'D', 'B', 'F'], ['A', 'D', 'B', 'F'], ['B', 'F']]\n",
      "['C', 'C', 'E']\n"
     ]
    }
   ],
   "source": [
    "# cloudlet 使用序列\n",
    "use_seq = ['A','D','B','F','C','E','G','A','D','B','F','C','G','B','F','E','A','D','B','F']\n",
    "use_seq_len = len(use_seq)\n",
    "# 尾扫描指针p    子序列的头指针和尾指针C_start C_end\n",
    "p = use_seq_len - 1\n",
    "C_start = 0\n",
    "C_end = 0\n",
    "# 尾部匹配子序列集TMSs 目标cloudlets集PTCs\n",
    "TMSs = []\n",
    "PTCs = []\n",
    "while C_end != use_seq_len - 1:\n",
    "    if use_seq[p] != use_seq[C_end]:\n",
    "        C_end += 1\n",
    "    else:\n",
    "        C_start = C_end - 1\n",
    "        while use_seq[p-1] == use_seq[C_start]:\n",
    "            C_start -= 1\n",
    "            p -= 1\n",
    "        TMSs.append(use_seq[C_start+1 : C_end+1])\n",
    "        PTCs.append(use_seq[C_end+1])\n",
    "        C_end += 1\n",
    "        p = use_seq_len - 1\n",
    "print(TMSs)\n",
    "print(PTCs)"
   ]
  },
  {
   "cell_type": "markdown",
   "metadata": {},
   "source": [
    "##### TMSs和PTCs 去重"
   ]
  },
  {
   "cell_type": "code",
   "execution_count": 32,
   "metadata": {},
   "outputs": [
    {
     "name": "stdout",
     "output_type": "stream",
     "text": [
      "{('A', 'D', 'B', 'F'): 2, ('B', 'F'): 1}\n",
      "{'C': 2, 'E': 1}\n"
     ]
    }
   ],
   "source": [
    "TMSs_noRepeat = {}\n",
    "PTCs_noRepeat = {}\n",
    "for TMS in TMSs:\n",
    "    # 字典的键不可变  所以需转为tuple\n",
    "    tup_TMS = tuple(TMS)\n",
    "    if tup_TMS in TMSs_noRepeat:\n",
    "        TMSs_noRepeat[tup_TMS] += 1\n",
    "    else:\n",
    "        TMSs_noRepeat[tup_TMS] = 1\n",
    "\n",
    "for PTC in PTCs:\n",
    "    if PTC in PTCs_noRepeat:\n",
    "        PTCs_noRepeat[PTC] += 1\n",
    "    else:\n",
    "        PTCs_noRepeat[PTC] = 1\n",
    "print(TMSs_noRepeat)\n",
    "print(PTCs_noRepeat)"
   ]
  },
  {
   "cell_type": "markdown",
   "metadata": {},
   "source": [
    "##### 计算概率"
   ]
  },
  {
   "cell_type": "code",
   "execution_count": 45,
   "metadata": {},
   "outputs": [
    {
     "name": "stdout",
     "output_type": "stream",
     "text": [
      "使用cloudlet C的概率为:0.6666666666666666ω1+0.6666666666666666ω2\n",
      "使用cloudlet E的概率为:0.3333333333333333ω1+0.3333333333333333ω2\n"
     ]
    }
   ],
   "source": [
    "# 去重 匹配序列 列表\n",
    "TMSs_noRepeat_match = list(TMSs_noRepeat.keys())\n",
    "# 去重 匹配次数 列表\n",
    "TMSs_noRepeat_times = list(TMSs_noRepeat.values())\n",
    "# 总匹配长度\n",
    "total_len = 0\n",
    "# 总匹配次数\n",
    "total_count = sum(list(TMSs_noRepeat.values()))\n",
    "\n",
    "for TMS in list(TMSs_noRepeat.keys()):\n",
    "    total_len += len(TMS)\n",
    "\n",
    "targets = list(PTCs_noRepeat.keys())\n",
    "for i in range(len(targets)):\n",
    "    print('使用cloudlet {}的概率为:{}ω1 + {}ω2'.format(targets[i], len(TMSs_noRepeat_match[i]) / total_len,  TMSs_noRepeat_times[i] / total_count))"
   ]
  }
 ],
 "metadata": {
  "interpreter": {
   "hash": "e56dfdfdfe0e219775f7d573ae90715c327d44511900fcd145cd2e6f7088a9d6"
  },
  "kernelspec": {
   "display_name": "Python 3.9.0 64-bit",
   "language": "python",
   "name": "python3"
  },
  "language_info": {
   "name": "python",
   "version": "3.9.0"
  },
  "orig_nbformat": 4
 },
 "nbformat": 4,
 "nbformat_minor": 2
}
