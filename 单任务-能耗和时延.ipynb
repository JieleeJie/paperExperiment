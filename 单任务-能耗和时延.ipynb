{
 "metadata": {
  "language_info": {
   "codemirror_mode": {
    "name": "ipython",
    "version": 3
   },
   "file_extension": ".py",
   "mimetype": "text/x-python",
   "name": "python",
   "nbconvert_exporter": "python",
   "pygments_lexer": "ipython3",
   "version": "3.9.0"
  },
  "orig_nbformat": 2,
  "kernelspec": {
   "name": "python390jvsc74a57bd0e56dfdfdfe0e219775f7d573ae90715c327d44511900fcd145cd2e6f7088a9d6",
   "display_name": "Python 3.9.0 64-bit"
  }
 },
 "nbformat": 4,
 "nbformat_minor": 2,
 "cells": [
  {
   "cell_type": "code",
   "execution_count": 8,
   "metadata": {},
   "outputs": [
    {
     "output_type": "stream",
     "name": "stdout",
     "text": [
      "传播时间： 6.333333333333333e-08 19\n"
     ]
    }
   ],
   "source": [
    "import pandas as pd\n",
    "import numpy as np\n",
    "\n",
    "# 传播时间\n",
    "# 距离\n",
    "distance = np.random.randint(5,50)\n",
    "time_propagation = distance  / 3e8\n",
    "print('传播时间：',time_propagation)"
   ]
  },
  {
   "cell_type": "code",
   "execution_count": null,
   "metadata": {},
   "outputs": [],
   "source": [
    "# 通信时间\n",
    "# 任务的数据传输量 服从 均值=750KB 的 均匀分布\n",
    "xiaoshu1, task_transmission = np.modf(np.random.uniform(200,1300))\n",
    "# 传输速率：带宽设为100mbps 吞吐量最大 12.5MB/s  实际数据传输率 6-10MB/S\n",
    "xiaoshu2,transmission_rate = np.modf(np.random.uniform(6,10))\n",
    "# transmission_rate = 10\n",
    "time_upload = (task_transmission / 1024) / transmission_rate\n",
    "# 假设下行的时间为上行的0.6倍\n",
    "time_communication = time_upload * 1.6\n",
    "print('通信时间：',time_communication)"
   ]
  },
  {
   "cell_type": "code",
   "execution_count": null,
   "metadata": {},
   "outputs": [],
   "source": [
    "# 处理时间\n",
    "# 任务大小 服从 均值=4600M条指令 的 均匀分布\n",
    "xiaoshu3, task_size = np.modf(np.random.uniform(2000,7200))\n",
    "# 边缘服务器处理速度 3846MIPS\n",
    "edge_server_speed = 3846\n",
    "time_execute = task_size / edge_server_speed\n",
    "print('处理时间：',time_execute)"
   ]
  },
  {
   "cell_type": "code",
   "execution_count": null,
   "metadata": {},
   "outputs": [],
   "source": [
    "# 任务的排队时间\n",
    "time_queue = np.random.uniform(0,1.5)\n",
    "print('排队时间：',time_queue)"
   ]
  },
  {
   "cell_type": "code",
   "execution_count": null,
   "metadata": {},
   "outputs": [],
   "source": [
    "# 总时间\n",
    "time = time_propagation + time_communication + time_execute + time_queue\n",
    "print('执行一个任务的总响应时间：', round(time,2))\n",
    "# 能耗   \n",
    "# 设 移动设备空闲时的功率为 5mW/sec 通信时的能耗为 20mW/sec   1w = 1 J/S     1mw = 1e-3 J/S\n",
    "power_idle = 5\n",
    "power_communication = 20\n",
    "energy = power_idle * (time_propagation + time_execute + time_queue) + power_communication * time_communication\n",
    "print('消耗的能量为：',round(energy,2)*1e-3)"
   ]
  }
 ]
}