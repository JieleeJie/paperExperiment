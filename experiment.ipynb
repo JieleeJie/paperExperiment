{
 "metadata": {
  "language_info": {
   "codemirror_mode": {
    "name": "ipython",
    "version": 3
   },
   "file_extension": ".py",
   "mimetype": "text/x-python",
   "name": "python",
   "nbconvert_exporter": "python",
   "pygments_lexer": "ipython3",
   "version": "3.9.0"
  },
  "orig_nbformat": 4,
  "kernelspec": {
   "name": "python3",
   "display_name": "Python 3.9.0 64-bit"
  },
  "interpreter": {
   "hash": "e56dfdfdfe0e219775f7d573ae90715c327d44511900fcd145cd2e6f7088a9d6"
  }
 },
 "nbformat": 4,
 "nbformat_minor": 2,
 "cells": [
  {
   "cell_type": "code",
   "execution_count": 25,
   "metadata": {},
   "outputs": [],
   "source": [
    "import pandas as pd\n",
    "import numpy as np\n",
    "\n",
    "load_raw = pd.read_csv('load.csv',index_col=0)\n",
    "# print(load_raw['load'+'1'].mean())\n",
    "\n",
    "# cloudlet数量\n",
    "cloudlet_number = load_raw.shape[1]\n",
    "# 任务数量\n",
    "task_number = 50\n",
    "\n",
    "# 任务大小 服从 均值=4600M条指令 的 均匀分布\n",
    "xiaoshu1, task_size = np.modf(np.random.uniform(500,8700,task_number))\n",
    "# 移动设备处理能力(MIPS)\n",
    "speed_moblieDevice = 600\n",
    "# cloudlet处理能力(MIPS)\n",
    "speed_cloudlet = 3846\n",
    "# clooud处理能力(MIPS)\n",
    "speed_cloud = 31790\n",
    "\n",
    "\n",
    "# 任务所需传输数据量 服从 均值=750KB 的 均匀分布 假设下行的时间为上行的 0.6 倍\n",
    "xiaoshu2, task_upload = np.modf(np.random.uniform(200,1300,task_number))\n",
    "# 边缘传输速率：带宽设为100mbps 理论传输率最大 12.8MB/s  实际传输吞吐量 4-11MB/S\n",
    "xiaoshu3,trans_rate_clt = np.modf(np.random.uniform(4,11,task_number))\n",
    "# 云传输速率：带宽设为1Gbps 理论传输率最大 128MB/s  实际传输吞吐量 40-110MB/S\n",
    "xiaoshu4,trans_rate_c = np.modf(np.random.uniform(40,110,task_number))\n",
    "\n",
    "# # 终端设备离cloudlet的距离 为(5,50)米\n",
    "# distance_cloudlet = np.random.randint(5,50,cloudlet_number)\n",
    "# nearest = np.argmin(distance_cloudlet)\n",
    "\n",
    "# # 在cloudlet中的排队时间\n",
    "# Tclt_queue = np.random.uniform(0,1.5,cloudlet_number)\n",
    "\n",
    "# 功率\n",
    "# 设 移动设备空闲时的功率为 5mW/sec 通信时的能耗为 20mW/sec   1w = 1 J/S     1mw = 1e-3 J/S\n",
    "power_idle = 5\n",
    "power_communication = 20\n",
    "power_excute = 60\n",
    "# 总的时间 和 能耗\n",
    "Tm = Tclt = Tc = 0\n",
    "Em = Eclt = Ec = 0\n"
   ]
  },
  {
   "cell_type": "code",
   "execution_count": 26,
   "metadata": {},
   "outputs": [
    {
     "output_type": "stream",
     "name": "stdout",
     "text": [
      "卸载到最近cloudlet\n卸载到最佳cloudlet\n卸载到最近cloudlet\n卸载到最佳cloudlet\n卸载到最近cloudlet\n卸载到最佳cloudlet\n卸载到最近cloudlet\n卸载到最佳cloudlet\n在本地执行\n卸载到最近cloudlet\n卸载到最佳cloudlet\n卸载到最近cloudlet\n卸载到最佳cloudlet\n卸载到最近cloudlet\n卸载到最近cloudlet\n卸载到最近cloudlet\n卸载到最佳cloudlet\n卸载到最近cloudlet\n卸载到最近cloudlet\n卸载到最近cloudlet\n卸载到最佳cloudlet\n卸载到最近cloudlet\n卸载到最近cloudlet\n卸载到最佳cloudlet\n卸载到最近cloudlet\n卸载到最近cloudlet\n卸载到最近cloudlet\n卸载到最佳cloudlet\n卸载到最近cloudlet\n卸载到最佳cloudlet\n卸载到最近cloudlet\n卸载到最佳cloudlet\n卸载到最近cloudlet\n卸载到最佳cloudlet\n卸载到最近cloudlet\n卸载到最近cloudlet\n卸载到最佳cloudlet\n卸载到最近cloudlet\n卸载到最佳cloudlet\n卸载到最近cloudlet\n卸载到最佳cloudlet\n卸载到最近cloudlet\n卸载到最佳cloudlet\n卸载到最近cloudlet\n卸载到最佳cloudlet\n卸载到最近cloudlet\n卸载到最近cloudlet\n卸载到最近cloudlet\n卸载到最佳cloudlet\n卸载到最近cloudlet\n卸载到最佳cloudlet\n卸载到最近cloudlet\n卸载到最近cloudlet\n卸载到最佳cloudlet\n卸载到最近cloudlet\n卸载到最近cloudlet\n卸载到最佳cloudlet\n卸载到最近cloudlet\n卸载到最近cloudlet\n卸载到最近cloudlet\n卸载到最佳cloudlet\n卸载到最近cloudlet\n卸载到最佳cloudlet\n卸载到最近cloudlet\n卸载到最佳cloudlet\n卸载到最近cloudlet\n卸载到最佳cloudlet\n卸载到最近cloudlet\n卸载到最近cloudlet\n卸载到最近cloudlet\n卸载到最近cloudlet\n卸载到最佳cloudlet\n卸载到最近cloudlet\n卸载到最佳cloudlet\n卸载到最近cloudlet\n卸载到最佳cloudlet\n卸载到最近cloudlet\n卸载到最佳cloudlet\n卸载到最近cloudlet\n卸载到最近cloudlet\n卸载到最佳cloudlet\n"
     ]
    }
   ],
   "source": [
    "\n",
    "for i in range(task_number):\n",
    "    # 初始化某个任务的完成时间  temp0 表示在本地处理   temp1表示在最近cloudlet处理\n",
    "    temp0 = temp1 = 0\n",
    "\n",
    "    # 在本地执行任务花费的时间\n",
    "    temp0 = task_size[i] / speed_moblieDevice\n",
    "    \n",
    "    # 终端设备到各个cloudlet的距离\n",
    "    distance_cloudlet = np.random.randint(5,50,cloudlet_number)\n",
    "    # 最近的cloudlet\n",
    "    nearest = np.argmin(distance_cloudlet)\n",
    "\n",
    "    # 上传到最近cloudlet的通信时延\n",
    "    temp1_upload = (task_upload[i] / 1024) / trans_rate_clt[nearest]\n",
    "    # 传播时延\n",
    "    temp1_propagation = distance_cloudlet[nearest] / 3e8\n",
    "    \n",
    "    # 在cloudlet中的排队时间\n",
    "    Tclt_queue = np.random.uniform(0,1.5,cloudlet_number)\n",
    "    temp1_queue = Tclt_queue[nearest]\n",
    "\n",
    "    # cloudlet处理时间\n",
    "    temp1_excute = task_size[i] / speed_cloudlet\n",
    "\n",
    "    temp1 = temp1_upload*1.6 + temp1_propagation + temp1_queue + temp1_excute\n",
    "    if temp0 < temp1:\n",
    "        print('在本地执行')\n",
    "        Tm += temp0\n",
    "        Em += power_excute * temp0\n",
    "    else:\n",
    "        print('卸载到最近cloudlet')\n",
    "        # 最近cloudlet的负载大于 16*0.7 到最佳cloudlet \n",
    "        if(load_raw['load'+ str(nearest+1)].mean() > 16 * 0.7):\n",
    "            print('卸载到最佳cloudlet')\n"
   ]
  }
 ]
}